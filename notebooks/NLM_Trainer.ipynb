{
  "nbformat": 4,
  "nbformat_minor": 0,
  "metadata": {
    "accelerator": "GPU",
    "colab": {
      "name": "NLM-Trainer",
      "provenance": [],
      "collapsed_sections": [],
      "machine_shape": "hm",
      "include_colab_link": true
    },
    "kernelspec": {
      "display_name": "Python 3",
      "name": "python3"
    },
    "widgets": {
      "application/vnd.jupyter.widget-state+json": {
        "f19c79ffcebc496385f2521d0eb239c4": {
          "model_module": "@jupyter-widgets/controls",
          "model_name": "HBoxModel",
          "state": {
            "_view_name": "HBoxView",
            "_dom_classes": [],
            "_model_name": "HBoxModel",
            "_view_module": "@jupyter-widgets/controls",
            "_model_module_version": "1.5.0",
            "_view_count": null,
            "_view_module_version": "1.5.0",
            "box_style": "",
            "layout": "IPY_MODEL_5ba48d43e5b647d7a32f4da804bd5cca",
            "_model_module": "@jupyter-widgets/controls",
            "children": [
              "IPY_MODEL_f57aa56866da440a912120b4cc31dc69",
              "IPY_MODEL_16dd344fda0d47ed9c73f065a94f04f2"
            ]
          }
        },
        "5ba48d43e5b647d7a32f4da804bd5cca": {
          "model_module": "@jupyter-widgets/base",
          "model_name": "LayoutModel",
          "state": {
            "_view_name": "LayoutView",
            "grid_template_rows": null,
            "right": null,
            "justify_content": null,
            "_view_module": "@jupyter-widgets/base",
            "overflow": null,
            "_model_module_version": "1.2.0",
            "_view_count": null,
            "flex_flow": null,
            "width": null,
            "min_width": null,
            "border": null,
            "align_items": null,
            "bottom": null,
            "_model_module": "@jupyter-widgets/base",
            "top": null,
            "grid_column": null,
            "overflow_y": null,
            "overflow_x": null,
            "grid_auto_flow": null,
            "grid_area": null,
            "grid_template_columns": null,
            "flex": null,
            "_model_name": "LayoutModel",
            "justify_items": null,
            "grid_row": null,
            "max_height": null,
            "align_content": null,
            "visibility": null,
            "align_self": null,
            "height": null,
            "min_height": null,
            "padding": null,
            "grid_auto_rows": null,
            "grid_gap": null,
            "max_width": null,
            "order": null,
            "_view_module_version": "1.2.0",
            "grid_template_areas": null,
            "object_position": null,
            "object_fit": null,
            "grid_auto_columns": null,
            "margin": null,
            "display": null,
            "left": null
          }
        },
        "f57aa56866da440a912120b4cc31dc69": {
          "model_module": "@jupyter-widgets/controls",
          "model_name": "VBoxModel",
          "state": {
            "_view_name": "VBoxView",
            "_dom_classes": [],
            "_model_name": "VBoxModel",
            "_view_module": "@jupyter-widgets/controls",
            "_model_module_version": "1.5.0",
            "_view_count": null,
            "_view_module_version": "1.5.0",
            "box_style": "",
            "layout": "IPY_MODEL_20a4abde630a4aa2b5d9821a5d1e008b",
            "_model_module": "@jupyter-widgets/controls",
            "children": [
              "IPY_MODEL_7ab08ee209174b8aa1d392ce5b64c6a9",
              "IPY_MODEL_1b77de945d794b4d8825f7536bcbcda2",
              "IPY_MODEL_50d74958b09a4b3ca006ff2c0d1f8903",
              "IPY_MODEL_c3a7a55cf01b433ebb89557a9012a42e"
            ]
          }
        },
        "16dd344fda0d47ed9c73f065a94f04f2": {
          "model_module": "@jupyter-widgets/controls",
          "model_name": "VBoxModel",
          "state": {
            "_view_name": "VBoxView",
            "_dom_classes": [],
            "_model_name": "VBoxModel",
            "_view_module": "@jupyter-widgets/controls",
            "_model_module_version": "1.5.0",
            "_view_count": null,
            "_view_module_version": "1.5.0",
            "box_style": "",
            "layout": "IPY_MODEL_90b1ea05969647578fb088e9aa55e15e",
            "_model_module": "@jupyter-widgets/controls",
            "children": [
              "IPY_MODEL_c8819e6a1b0a41f4a3766eba1bea479f",
              "IPY_MODEL_fb1bedee20d74d6fb2d3f845a88edf69",
              "IPY_MODEL_d3c7ef983b5448cc929182304f6b648c",
              "IPY_MODEL_41b26b6c2886460baebc85486be166de"
            ]
          }
        },
        "20a4abde630a4aa2b5d9821a5d1e008b": {
          "model_module": "@jupyter-widgets/base",
          "model_name": "LayoutModel",
          "state": {
            "_view_name": "LayoutView",
            "grid_template_rows": null,
            "right": null,
            "justify_content": null,
            "_view_module": "@jupyter-widgets/base",
            "overflow": null,
            "_model_module_version": "1.2.0",
            "_view_count": null,
            "flex_flow": null,
            "width": null,
            "min_width": null,
            "border": null,
            "align_items": null,
            "bottom": null,
            "_model_module": "@jupyter-widgets/base",
            "top": null,
            "grid_column": null,
            "overflow_y": null,
            "overflow_x": null,
            "grid_auto_flow": null,
            "grid_area": null,
            "grid_template_columns": null,
            "flex": null,
            "_model_name": "LayoutModel",
            "justify_items": null,
            "grid_row": null,
            "max_height": null,
            "align_content": null,
            "visibility": null,
            "align_self": null,
            "height": null,
            "min_height": null,
            "padding": null,
            "grid_auto_rows": null,
            "grid_gap": null,
            "max_width": null,
            "order": null,
            "_view_module_version": "1.2.0",
            "grid_template_areas": null,
            "object_position": null,
            "object_fit": null,
            "grid_auto_columns": null,
            "margin": null,
            "display": null,
            "left": null
          }
        },
        "7ab08ee209174b8aa1d392ce5b64c6a9": {
          "model_module": "@jupyter-widgets/controls",
          "model_name": "LabelModel",
          "state": {
            "_view_name": "LabelView",
            "style": "IPY_MODEL_11a5647827dc430d890398e1261f2f6a",
            "_dom_classes": [],
            "description": "",
            "_model_name": "LabelModel",
            "placeholder": "​",
            "_view_module": "@jupyter-widgets/controls",
            "_model_module_version": "1.5.0",
            "value": "Source Directory",
            "_view_count": null,
            "_view_module_version": "1.5.0",
            "description_tooltip": null,
            "_model_module": "@jupyter-widgets/controls",
            "layout": "IPY_MODEL_90bf3ef7dc4944bd839e677bdc9e3bb9"
          }
        },
        "1b77de945d794b4d8825f7536bcbcda2": {
          "model_module": "@jupyter-widgets/controls",
          "model_name": "LabelModel",
          "state": {
            "_view_name": "LabelView",
            "style": "IPY_MODEL_1413daae907b4bb3b774e2c32815a7e1",
            "_dom_classes": [],
            "description": "",
            "_model_name": "LabelModel",
            "placeholder": "​",
            "_view_module": "@jupyter-widgets/controls",
            "_model_module_version": "1.5.0",
            "value": "Training",
            "_view_count": null,
            "_view_module_version": "1.5.0",
            "description_tooltip": null,
            "_model_module": "@jupyter-widgets/controls",
            "layout": "IPY_MODEL_bff78b0ee94c44c69ee24c984c2d77ef"
          }
        },
        "50d74958b09a4b3ca006ff2c0d1f8903": {
          "model_module": "@jupyter-widgets/controls",
          "model_name": "LabelModel",
          "state": {
            "_view_name": "LabelView",
            "style": "IPY_MODEL_a025046aa08c4fe1a04e25ee48bd81f7",
            "_dom_classes": [],
            "description": "",
            "_model_name": "LabelModel",
            "placeholder": "​",
            "_view_module": "@jupyter-widgets/controls",
            "_model_module_version": "1.5.0",
            "value": "Validation",
            "_view_count": null,
            "_view_module_version": "1.5.0",
            "description_tooltip": null,
            "_model_module": "@jupyter-widgets/controls",
            "layout": "IPY_MODEL_da19fd70046e469aa9efbeb718e1cb34"
          }
        },
        "c3a7a55cf01b433ebb89557a9012a42e": {
          "model_module": "@jupyter-widgets/controls",
          "model_name": "LabelModel",
          "state": {
            "_view_name": "LabelView",
            "style": "IPY_MODEL_a1822c0a9b3d408cacf9d15a6307063f",
            "_dom_classes": [],
            "description": "",
            "_model_name": "LabelModel",
            "placeholder": "​",
            "_view_module": "@jupyter-widgets/controls",
            "_model_module_version": "1.5.0",
            "value": "Test",
            "_view_count": null,
            "_view_module_version": "1.5.0",
            "description_tooltip": null,
            "_model_module": "@jupyter-widgets/controls",
            "layout": "IPY_MODEL_162fa544f0b3499590a045f8b28ad914"
          }
        },
        "90b1ea05969647578fb088e9aa55e15e": {
          "model_module": "@jupyter-widgets/base",
          "model_name": "LayoutModel",
          "state": {
            "_view_name": "LayoutView",
            "grid_template_rows": null,
            "right": null,
            "justify_content": null,
            "_view_module": "@jupyter-widgets/base",
            "overflow": null,
            "_model_module_version": "1.2.0",
            "_view_count": null,
            "flex_flow": null,
            "width": null,
            "min_width": null,
            "border": null,
            "align_items": null,
            "bottom": null,
            "_model_module": "@jupyter-widgets/base",
            "top": null,
            "grid_column": null,
            "overflow_y": null,
            "overflow_x": null,
            "grid_auto_flow": null,
            "grid_area": null,
            "grid_template_columns": null,
            "flex": null,
            "_model_name": "LayoutModel",
            "justify_items": null,
            "grid_row": null,
            "max_height": null,
            "align_content": null,
            "visibility": null,
            "align_self": null,
            "height": null,
            "min_height": null,
            "padding": null,
            "grid_auto_rows": null,
            "grid_gap": null,
            "max_width": null,
            "order": null,
            "_view_module_version": "1.2.0",
            "grid_template_areas": null,
            "object_position": null,
            "object_fit": null,
            "grid_auto_columns": null,
            "margin": null,
            "display": null,
            "left": null
          }
        },
        "c8819e6a1b0a41f4a3766eba1bea479f": {
          "model_module": "@jupyter-widgets/controls",
          "model_name": "DropdownModel",
          "state": {
            "_options_labels": [
              "/content/gdrive/MyDrive/ColabNotebooks/Visualization/data/",
              "/content/gdrive/MyDrive/ColabNotebooks/Visualization/msc_data/",
              "/content/gdrive/MyDrive/ColabNotebooks/Visualization/showerThoughts/",
              "/content/gdrive/MyDrive/ColabNotebooks/Visualization/midnight/",
              "/content/gdrive/MyDrive/ColabNotebooks/Visualization/roughtests/",
              "/content/gdrive/MyDrive/ColabNotebooks/Visualization/complete/",
              "/content/gdrive/MyDrive/ColabNotebooks/Visualization/plots/"
            ],
            "_view_name": "DropdownView",
            "style": "IPY_MODEL_90e2bf42e84c49d18ef7f0edfe2f83d8",
            "_dom_classes": [],
            "description": "",
            "_model_name": "DropdownModel",
            "index": 5,
            "_view_module": "@jupyter-widgets/controls",
            "_model_module_version": "1.5.0",
            "_view_count": null,
            "disabled": false,
            "_view_module_version": "1.5.0",
            "description_tooltip": null,
            "_model_module": "@jupyter-widgets/controls",
            "layout": "IPY_MODEL_4503ac3030314289b9de8fc2d540b2d8"
          }
        },
        "fb1bedee20d74d6fb2d3f845a88edf69": {
          "model_module": "@jupyter-widgets/controls",
          "model_name": "DropdownModel",
          "state": {
            "_options_labels": [
              "/content/gdrive/MyDrive/ColabNotebooks/Visualization/complete/train_htype_balanced_0to8.tsv",
              "/content/gdrive/MyDrive/ColabNotebooks/Visualization/complete/train_hdeg_balanced_0to5.tsv",
              "/content/gdrive/MyDrive/ColabNotebooks/Visualization/complete/train_hdeg_balanced_0to1.tsv"
            ],
            "_view_name": "DropdownView",
            "style": "IPY_MODEL_dc1f7c1c6d9842f3b59cbf93e61d6d9a",
            "_dom_classes": [],
            "description": "",
            "_model_name": "DropdownModel",
            "index": 0,
            "_view_module": "@jupyter-widgets/controls",
            "_model_module_version": "1.5.0",
            "_view_count": null,
            "disabled": false,
            "_view_module_version": "1.5.0",
            "description_tooltip": null,
            "_model_module": "@jupyter-widgets/controls",
            "layout": "IPY_MODEL_1f45e8bd55434b6d8eb4eec4d5856072"
          }
        },
        "d3c7ef983b5448cc929182304f6b648c": {
          "model_module": "@jupyter-widgets/controls",
          "model_name": "DropdownModel",
          "state": {
            "_options_labels": [
              "/content/gdrive/MyDrive/ColabNotebooks/Visualization/complete/dev_htype_balanced_0to8.tsv",
              "/content/gdrive/MyDrive/ColabNotebooks/Visualization/complete/dev_hdeg_balanced_0to5.tsv",
              "/content/gdrive/MyDrive/ColabNotebooks/Visualization/complete/dev_hdeg_balanced_0to1.tsv"
            ],
            "_view_name": "DropdownView",
            "style": "IPY_MODEL_f2d74f6ab4d640b59519553629a38d64",
            "_dom_classes": [],
            "description": "",
            "_model_name": "DropdownModel",
            "index": 0,
            "_view_module": "@jupyter-widgets/controls",
            "_model_module_version": "1.5.0",
            "_view_count": null,
            "disabled": false,
            "_view_module_version": "1.5.0",
            "description_tooltip": null,
            "_model_module": "@jupyter-widgets/controls",
            "layout": "IPY_MODEL_daaf1266d8224e6781fbce8d1c50953a"
          }
        },
        "41b26b6c2886460baebc85486be166de": {
          "model_module": "@jupyter-widgets/controls",
          "model_name": "DropdownModel",
          "state": {
            "_options_labels": [
              "/content/gdrive/MyDrive/ColabNotebooks/Visualization/complete/test_htype_balanced_0to8.tsv",
              "/content/gdrive/MyDrive/ColabNotebooks/Visualization/complete/test_hdeg_balanced_0to5.tsv",
              "/content/gdrive/MyDrive/ColabNotebooks/Visualization/complete/test_hdeg_balanced_0to1.tsv"
            ],
            "_view_name": "DropdownView",
            "style": "IPY_MODEL_48494a92675e429daf96cbac22436f2b",
            "_dom_classes": [],
            "description": "",
            "_model_name": "DropdownModel",
            "index": 0,
            "_view_module": "@jupyter-widgets/controls",
            "_model_module_version": "1.5.0",
            "_view_count": null,
            "disabled": false,
            "_view_module_version": "1.5.0",
            "description_tooltip": null,
            "_model_module": "@jupyter-widgets/controls",
            "layout": "IPY_MODEL_ae5053acf6c1406f8f68a07cc05eebb9"
          }
        },
        "11a5647827dc430d890398e1261f2f6a": {
          "model_module": "@jupyter-widgets/controls",
          "model_name": "DescriptionStyleModel",
          "state": {
            "_view_name": "StyleView",
            "_model_name": "DescriptionStyleModel",
            "description_width": "",
            "_view_module": "@jupyter-widgets/base",
            "_model_module_version": "1.5.0",
            "_view_count": null,
            "_view_module_version": "1.2.0",
            "_model_module": "@jupyter-widgets/controls"
          }
        },
        "90bf3ef7dc4944bd839e677bdc9e3bb9": {
          "model_module": "@jupyter-widgets/base",
          "model_name": "LayoutModel",
          "state": {
            "_view_name": "LayoutView",
            "grid_template_rows": null,
            "right": null,
            "justify_content": null,
            "_view_module": "@jupyter-widgets/base",
            "overflow": null,
            "_model_module_version": "1.2.0",
            "_view_count": null,
            "flex_flow": null,
            "width": null,
            "min_width": null,
            "border": null,
            "align_items": null,
            "bottom": null,
            "_model_module": "@jupyter-widgets/base",
            "top": null,
            "grid_column": null,
            "overflow_y": null,
            "overflow_x": null,
            "grid_auto_flow": null,
            "grid_area": null,
            "grid_template_columns": null,
            "flex": null,
            "_model_name": "LayoutModel",
            "justify_items": null,
            "grid_row": null,
            "max_height": null,
            "align_content": null,
            "visibility": null,
            "align_self": null,
            "height": null,
            "min_height": null,
            "padding": null,
            "grid_auto_rows": null,
            "grid_gap": null,
            "max_width": null,
            "order": null,
            "_view_module_version": "1.2.0",
            "grid_template_areas": null,
            "object_position": null,
            "object_fit": null,
            "grid_auto_columns": null,
            "margin": null,
            "display": null,
            "left": null
          }
        },
        "1413daae907b4bb3b774e2c32815a7e1": {
          "model_module": "@jupyter-widgets/controls",
          "model_name": "DescriptionStyleModel",
          "state": {
            "_view_name": "StyleView",
            "_model_name": "DescriptionStyleModel",
            "description_width": "",
            "_view_module": "@jupyter-widgets/base",
            "_model_module_version": "1.5.0",
            "_view_count": null,
            "_view_module_version": "1.2.0",
            "_model_module": "@jupyter-widgets/controls"
          }
        },
        "bff78b0ee94c44c69ee24c984c2d77ef": {
          "model_module": "@jupyter-widgets/base",
          "model_name": "LayoutModel",
          "state": {
            "_view_name": "LayoutView",
            "grid_template_rows": null,
            "right": null,
            "justify_content": null,
            "_view_module": "@jupyter-widgets/base",
            "overflow": null,
            "_model_module_version": "1.2.0",
            "_view_count": null,
            "flex_flow": null,
            "width": null,
            "min_width": null,
            "border": null,
            "align_items": null,
            "bottom": null,
            "_model_module": "@jupyter-widgets/base",
            "top": null,
            "grid_column": null,
            "overflow_y": null,
            "overflow_x": null,
            "grid_auto_flow": null,
            "grid_area": null,
            "grid_template_columns": null,
            "flex": null,
            "_model_name": "LayoutModel",
            "justify_items": null,
            "grid_row": null,
            "max_height": null,
            "align_content": null,
            "visibility": null,
            "align_self": null,
            "height": null,
            "min_height": null,
            "padding": null,
            "grid_auto_rows": null,
            "grid_gap": null,
            "max_width": null,
            "order": null,
            "_view_module_version": "1.2.0",
            "grid_template_areas": null,
            "object_position": null,
            "object_fit": null,
            "grid_auto_columns": null,
            "margin": null,
            "display": null,
            "left": null
          }
        },
        "a025046aa08c4fe1a04e25ee48bd81f7": {
          "model_module": "@jupyter-widgets/controls",
          "model_name": "DescriptionStyleModel",
          "state": {
            "_view_name": "StyleView",
            "_model_name": "DescriptionStyleModel",
            "description_width": "",
            "_view_module": "@jupyter-widgets/base",
            "_model_module_version": "1.5.0",
            "_view_count": null,
            "_view_module_version": "1.2.0",
            "_model_module": "@jupyter-widgets/controls"
          }
        },
        "da19fd70046e469aa9efbeb718e1cb34": {
          "model_module": "@jupyter-widgets/base",
          "model_name": "LayoutModel",
          "state": {
            "_view_name": "LayoutView",
            "grid_template_rows": null,
            "right": null,
            "justify_content": null,
            "_view_module": "@jupyter-widgets/base",
            "overflow": null,
            "_model_module_version": "1.2.0",
            "_view_count": null,
            "flex_flow": null,
            "width": null,
            "min_width": null,
            "border": null,
            "align_items": null,
            "bottom": null,
            "_model_module": "@jupyter-widgets/base",
            "top": null,
            "grid_column": null,
            "overflow_y": null,
            "overflow_x": null,
            "grid_auto_flow": null,
            "grid_area": null,
            "grid_template_columns": null,
            "flex": null,
            "_model_name": "LayoutModel",
            "justify_items": null,
            "grid_row": null,
            "max_height": null,
            "align_content": null,
            "visibility": null,
            "align_self": null,
            "height": null,
            "min_height": null,
            "padding": null,
            "grid_auto_rows": null,
            "grid_gap": null,
            "max_width": null,
            "order": null,
            "_view_module_version": "1.2.0",
            "grid_template_areas": null,
            "object_position": null,
            "object_fit": null,
            "grid_auto_columns": null,
            "margin": null,
            "display": null,
            "left": null
          }
        },
        "a1822c0a9b3d408cacf9d15a6307063f": {
          "model_module": "@jupyter-widgets/controls",
          "model_name": "DescriptionStyleModel",
          "state": {
            "_view_name": "StyleView",
            "_model_name": "DescriptionStyleModel",
            "description_width": "",
            "_view_module": "@jupyter-widgets/base",
            "_model_module_version": "1.5.0",
            "_view_count": null,
            "_view_module_version": "1.2.0",
            "_model_module": "@jupyter-widgets/controls"
          }
        },
        "162fa544f0b3499590a045f8b28ad914": {
          "model_module": "@jupyter-widgets/base",
          "model_name": "LayoutModel",
          "state": {
            "_view_name": "LayoutView",
            "grid_template_rows": null,
            "right": null,
            "justify_content": null,
            "_view_module": "@jupyter-widgets/base",
            "overflow": null,
            "_model_module_version": "1.2.0",
            "_view_count": null,
            "flex_flow": null,
            "width": null,
            "min_width": null,
            "border": null,
            "align_items": null,
            "bottom": null,
            "_model_module": "@jupyter-widgets/base",
            "top": null,
            "grid_column": null,
            "overflow_y": null,
            "overflow_x": null,
            "grid_auto_flow": null,
            "grid_area": null,
            "grid_template_columns": null,
            "flex": null,
            "_model_name": "LayoutModel",
            "justify_items": null,
            "grid_row": null,
            "max_height": null,
            "align_content": null,
            "visibility": null,
            "align_self": null,
            "height": null,
            "min_height": null,
            "padding": null,
            "grid_auto_rows": null,
            "grid_gap": null,
            "max_width": null,
            "order": null,
            "_view_module_version": "1.2.0",
            "grid_template_areas": null,
            "object_position": null,
            "object_fit": null,
            "grid_auto_columns": null,
            "margin": null,
            "display": null,
            "left": null
          }
        },
        "90e2bf42e84c49d18ef7f0edfe2f83d8": {
          "model_module": "@jupyter-widgets/controls",
          "model_name": "DescriptionStyleModel",
          "state": {
            "_view_name": "StyleView",
            "_model_name": "DescriptionStyleModel",
            "description_width": "",
            "_view_module": "@jupyter-widgets/base",
            "_model_module_version": "1.5.0",
            "_view_count": null,
            "_view_module_version": "1.2.0",
            "_model_module": "@jupyter-widgets/controls"
          }
        },
        "4503ac3030314289b9de8fc2d540b2d8": {
          "model_module": "@jupyter-widgets/base",
          "model_name": "LayoutModel",
          "state": {
            "_view_name": "LayoutView",
            "grid_template_rows": null,
            "right": null,
            "justify_content": null,
            "_view_module": "@jupyter-widgets/base",
            "overflow": null,
            "_model_module_version": "1.2.0",
            "_view_count": null,
            "flex_flow": null,
            "width": null,
            "min_width": null,
            "border": null,
            "align_items": null,
            "bottom": null,
            "_model_module": "@jupyter-widgets/base",
            "top": null,
            "grid_column": null,
            "overflow_y": null,
            "overflow_x": null,
            "grid_auto_flow": null,
            "grid_area": null,
            "grid_template_columns": null,
            "flex": null,
            "_model_name": "LayoutModel",
            "justify_items": null,
            "grid_row": null,
            "max_height": null,
            "align_content": null,
            "visibility": null,
            "align_self": null,
            "height": null,
            "min_height": null,
            "padding": null,
            "grid_auto_rows": null,
            "grid_gap": null,
            "max_width": null,
            "order": null,
            "_view_module_version": "1.2.0",
            "grid_template_areas": null,
            "object_position": null,
            "object_fit": null,
            "grid_auto_columns": null,
            "margin": null,
            "display": null,
            "left": null
          }
        },
        "dc1f7c1c6d9842f3b59cbf93e61d6d9a": {
          "model_module": "@jupyter-widgets/controls",
          "model_name": "DescriptionStyleModel",
          "state": {
            "_view_name": "StyleView",
            "_model_name": "DescriptionStyleModel",
            "description_width": "",
            "_view_module": "@jupyter-widgets/base",
            "_model_module_version": "1.5.0",
            "_view_count": null,
            "_view_module_version": "1.2.0",
            "_model_module": "@jupyter-widgets/controls"
          }
        },
        "1f45e8bd55434b6d8eb4eec4d5856072": {
          "model_module": "@jupyter-widgets/base",
          "model_name": "LayoutModel",
          "state": {
            "_view_name": "LayoutView",
            "grid_template_rows": null,
            "right": null,
            "justify_content": null,
            "_view_module": "@jupyter-widgets/base",
            "overflow": null,
            "_model_module_version": "1.2.0",
            "_view_count": null,
            "flex_flow": null,
            "width": null,
            "min_width": null,
            "border": null,
            "align_items": null,
            "bottom": null,
            "_model_module": "@jupyter-widgets/base",
            "top": null,
            "grid_column": null,
            "overflow_y": null,
            "overflow_x": null,
            "grid_auto_flow": null,
            "grid_area": null,
            "grid_template_columns": null,
            "flex": null,
            "_model_name": "LayoutModel",
            "justify_items": null,
            "grid_row": null,
            "max_height": null,
            "align_content": null,
            "visibility": null,
            "align_self": null,
            "height": null,
            "min_height": null,
            "padding": null,
            "grid_auto_rows": null,
            "grid_gap": null,
            "max_width": null,
            "order": null,
            "_view_module_version": "1.2.0",
            "grid_template_areas": null,
            "object_position": null,
            "object_fit": null,
            "grid_auto_columns": null,
            "margin": null,
            "display": null,
            "left": null
          }
        },
        "f2d74f6ab4d640b59519553629a38d64": {
          "model_module": "@jupyter-widgets/controls",
          "model_name": "DescriptionStyleModel",
          "state": {
            "_view_name": "StyleView",
            "_model_name": "DescriptionStyleModel",
            "description_width": "",
            "_view_module": "@jupyter-widgets/base",
            "_model_module_version": "1.5.0",
            "_view_count": null,
            "_view_module_version": "1.2.0",
            "_model_module": "@jupyter-widgets/controls"
          }
        },
        "daaf1266d8224e6781fbce8d1c50953a": {
          "model_module": "@jupyter-widgets/base",
          "model_name": "LayoutModel",
          "state": {
            "_view_name": "LayoutView",
            "grid_template_rows": null,
            "right": null,
            "justify_content": null,
            "_view_module": "@jupyter-widgets/base",
            "overflow": null,
            "_model_module_version": "1.2.0",
            "_view_count": null,
            "flex_flow": null,
            "width": null,
            "min_width": null,
            "border": null,
            "align_items": null,
            "bottom": null,
            "_model_module": "@jupyter-widgets/base",
            "top": null,
            "grid_column": null,
            "overflow_y": null,
            "overflow_x": null,
            "grid_auto_flow": null,
            "grid_area": null,
            "grid_template_columns": null,
            "flex": null,
            "_model_name": "LayoutModel",
            "justify_items": null,
            "grid_row": null,
            "max_height": null,
            "align_content": null,
            "visibility": null,
            "align_self": null,
            "height": null,
            "min_height": null,
            "padding": null,
            "grid_auto_rows": null,
            "grid_gap": null,
            "max_width": null,
            "order": null,
            "_view_module_version": "1.2.0",
            "grid_template_areas": null,
            "object_position": null,
            "object_fit": null,
            "grid_auto_columns": null,
            "margin": null,
            "display": null,
            "left": null
          }
        },
        "48494a92675e429daf96cbac22436f2b": {
          "model_module": "@jupyter-widgets/controls",
          "model_name": "DescriptionStyleModel",
          "state": {
            "_view_name": "StyleView",
            "_model_name": "DescriptionStyleModel",
            "description_width": "",
            "_view_module": "@jupyter-widgets/base",
            "_model_module_version": "1.5.0",
            "_view_count": null,
            "_view_module_version": "1.2.0",
            "_model_module": "@jupyter-widgets/controls"
          }
        },
        "ae5053acf6c1406f8f68a07cc05eebb9": {
          "model_module": "@jupyter-widgets/base",
          "model_name": "LayoutModel",
          "state": {
            "_view_name": "LayoutView",
            "grid_template_rows": null,
            "right": null,
            "justify_content": null,
            "_view_module": "@jupyter-widgets/base",
            "overflow": null,
            "_model_module_version": "1.2.0",
            "_view_count": null,
            "flex_flow": null,
            "width": null,
            "min_width": null,
            "border": null,
            "align_items": null,
            "bottom": null,
            "_model_module": "@jupyter-widgets/base",
            "top": null,
            "grid_column": null,
            "overflow_y": null,
            "overflow_x": null,
            "grid_auto_flow": null,
            "grid_area": null,
            "grid_template_columns": null,
            "flex": null,
            "_model_name": "LayoutModel",
            "justify_items": null,
            "grid_row": null,
            "max_height": null,
            "align_content": null,
            "visibility": null,
            "align_self": null,
            "height": null,
            "min_height": null,
            "padding": null,
            "grid_auto_rows": null,
            "grid_gap": null,
            "max_width": null,
            "order": null,
            "_view_module_version": "1.2.0",
            "grid_template_areas": null,
            "object_position": null,
            "object_fit": null,
            "grid_auto_columns": null,
            "margin": null,
            "display": null,
            "left": null
          }
        },
        "3a59e0c322444de4b17c8ea92289324d": {
          "model_module": "@jupyter-widgets/controls",
          "model_name": "HBoxModel",
          "state": {
            "_view_name": "HBoxView",
            "_dom_classes": [],
            "_model_name": "HBoxModel",
            "_view_module": "@jupyter-widgets/controls",
            "_model_module_version": "1.5.0",
            "_view_count": null,
            "_view_module_version": "1.5.0",
            "box_style": "",
            "layout": "IPY_MODEL_785f9c96d7ff4cd2b1b7a1964fe4ec3b",
            "_model_module": "@jupyter-widgets/controls",
            "children": [
              "IPY_MODEL_c97bffb3ca7a4321b82c19c662352ea5",
              "IPY_MODEL_33b7593b380e43baab0b2dee10a27f88"
            ]
          }
        },
        "785f9c96d7ff4cd2b1b7a1964fe4ec3b": {
          "model_module": "@jupyter-widgets/base",
          "model_name": "LayoutModel",
          "state": {
            "_view_name": "LayoutView",
            "grid_template_rows": null,
            "right": null,
            "justify_content": null,
            "_view_module": "@jupyter-widgets/base",
            "overflow": null,
            "_model_module_version": "1.2.0",
            "_view_count": null,
            "flex_flow": null,
            "width": null,
            "min_width": null,
            "border": null,
            "align_items": null,
            "bottom": null,
            "_model_module": "@jupyter-widgets/base",
            "top": null,
            "grid_column": null,
            "overflow_y": null,
            "overflow_x": null,
            "grid_auto_flow": null,
            "grid_area": null,
            "grid_template_columns": null,
            "flex": null,
            "_model_name": "LayoutModel",
            "justify_items": null,
            "grid_row": null,
            "max_height": null,
            "align_content": null,
            "visibility": null,
            "align_self": null,
            "height": null,
            "min_height": null,
            "padding": null,
            "grid_auto_rows": null,
            "grid_gap": null,
            "max_width": null,
            "order": null,
            "_view_module_version": "1.2.0",
            "grid_template_areas": null,
            "object_position": null,
            "object_fit": null,
            "grid_auto_columns": null,
            "margin": null,
            "display": null,
            "left": null
          }
        },
        "c97bffb3ca7a4321b82c19c662352ea5": {
          "model_module": "@jupyter-widgets/controls",
          "model_name": "FloatProgressModel",
          "state": {
            "_view_name": "ProgressView",
            "style": "IPY_MODEL_1d6e3d11e61e483d960c4f93e9b26385",
            "_dom_classes": [],
            "description": "100%",
            "_model_name": "FloatProgressModel",
            "bar_style": "danger",
            "max": 3193,
            "_view_module": "@jupyter-widgets/controls",
            "_model_module_version": "1.5.0",
            "value": 3192,
            "_view_count": null,
            "_view_module_version": "1.5.0",
            "orientation": "horizontal",
            "min": 0,
            "description_tooltip": null,
            "_model_module": "@jupyter-widgets/controls",
            "layout": "IPY_MODEL_f5872fbc72e14bc2829f0658a29567b3"
          }
        },
        "33b7593b380e43baab0b2dee10a27f88": {
          "model_module": "@jupyter-widgets/controls",
          "model_name": "HTMLModel",
          "state": {
            "_view_name": "HTMLView",
            "style": "IPY_MODEL_cd00a155c1d64ab389ba7f18e15f206b",
            "_dom_classes": [],
            "description": "",
            "_model_name": "HTMLModel",
            "placeholder": "​",
            "_view_module": "@jupyter-widgets/controls",
            "_model_module_version": "1.5.0",
            "value": " 3192/3193 [01:47&lt;00:00, 29.68it/s]",
            "_view_count": null,
            "_view_module_version": "1.5.0",
            "description_tooltip": null,
            "_model_module": "@jupyter-widgets/controls",
            "layout": "IPY_MODEL_f0e343c170c54d6a8b72ba0f169f2e5e"
          }
        },
        "1d6e3d11e61e483d960c4f93e9b26385": {
          "model_module": "@jupyter-widgets/controls",
          "model_name": "ProgressStyleModel",
          "state": {
            "_view_name": "StyleView",
            "_model_name": "ProgressStyleModel",
            "description_width": "initial",
            "_view_module": "@jupyter-widgets/base",
            "_model_module_version": "1.5.0",
            "_view_count": null,
            "_view_module_version": "1.2.0",
            "bar_color": null,
            "_model_module": "@jupyter-widgets/controls"
          }
        },
        "f5872fbc72e14bc2829f0658a29567b3": {
          "model_module": "@jupyter-widgets/base",
          "model_name": "LayoutModel",
          "state": {
            "_view_name": "LayoutView",
            "grid_template_rows": null,
            "right": null,
            "justify_content": null,
            "_view_module": "@jupyter-widgets/base",
            "overflow": null,
            "_model_module_version": "1.2.0",
            "_view_count": null,
            "flex_flow": null,
            "width": null,
            "min_width": null,
            "border": null,
            "align_items": null,
            "bottom": null,
            "_model_module": "@jupyter-widgets/base",
            "top": null,
            "grid_column": null,
            "overflow_y": null,
            "overflow_x": null,
            "grid_auto_flow": null,
            "grid_area": null,
            "grid_template_columns": null,
            "flex": null,
            "_model_name": "LayoutModel",
            "justify_items": null,
            "grid_row": null,
            "max_height": null,
            "align_content": null,
            "visibility": null,
            "align_self": null,
            "height": null,
            "min_height": null,
            "padding": null,
            "grid_auto_rows": null,
            "grid_gap": null,
            "max_width": null,
            "order": null,
            "_view_module_version": "1.2.0",
            "grid_template_areas": null,
            "object_position": null,
            "object_fit": null,
            "grid_auto_columns": null,
            "margin": null,
            "display": null,
            "left": null
          }
        },
        "cd00a155c1d64ab389ba7f18e15f206b": {
          "model_module": "@jupyter-widgets/controls",
          "model_name": "DescriptionStyleModel",
          "state": {
            "_view_name": "StyleView",
            "_model_name": "DescriptionStyleModel",
            "description_width": "",
            "_view_module": "@jupyter-widgets/base",
            "_model_module_version": "1.5.0",
            "_view_count": null,
            "_view_module_version": "1.2.0",
            "_model_module": "@jupyter-widgets/controls"
          }
        },
        "f0e343c170c54d6a8b72ba0f169f2e5e": {
          "model_module": "@jupyter-widgets/base",
          "model_name": "LayoutModel",
          "state": {
            "_view_name": "LayoutView",
            "grid_template_rows": null,
            "right": null,
            "justify_content": null,
            "_view_module": "@jupyter-widgets/base",
            "overflow": null,
            "_model_module_version": "1.2.0",
            "_view_count": null,
            "flex_flow": null,
            "width": null,
            "min_width": null,
            "border": null,
            "align_items": null,
            "bottom": null,
            "_model_module": "@jupyter-widgets/base",
            "top": null,
            "grid_column": null,
            "overflow_y": null,
            "overflow_x": null,
            "grid_auto_flow": null,
            "grid_area": null,
            "grid_template_columns": null,
            "flex": null,
            "_model_name": "LayoutModel",
            "justify_items": null,
            "grid_row": null,
            "max_height": null,
            "align_content": null,
            "visibility": null,
            "align_self": null,
            "height": null,
            "min_height": null,
            "padding": null,
            "grid_auto_rows": null,
            "grid_gap": null,
            "max_width": null,
            "order": null,
            "_view_module_version": "1.2.0",
            "grid_template_areas": null,
            "object_position": null,
            "object_fit": null,
            "grid_auto_columns": null,
            "margin": null,
            "display": null,
            "left": null
          }
        },
        "9783a6c5c3f841c199f89f596c3a28c8": {
          "model_module": "@jupyter-widgets/controls",
          "model_name": "VBoxModel",
          "state": {
            "_view_name": "VBoxView",
            "_dom_classes": [],
            "_model_name": "VBoxModel",
            "_view_module": "@jupyter-widgets/controls",
            "_model_module_version": "1.5.0",
            "_view_count": null,
            "_view_module_version": "1.5.0",
            "box_style": "",
            "layout": "IPY_MODEL_97101abd4d8f4cefa126e36a38b3275c",
            "_model_module": "@jupyter-widgets/controls",
            "children": [
              "IPY_MODEL_e4297c1270644b8a93f5ad42f31316de",
              "IPY_MODEL_7d3adb09db4146b7865a0e8602e0d969"
            ]
          }
        },
        "97101abd4d8f4cefa126e36a38b3275c": {
          "model_module": "@jupyter-widgets/base",
          "model_name": "LayoutModel",
          "state": {
            "_view_name": "LayoutView",
            "grid_template_rows": null,
            "right": null,
            "justify_content": null,
            "_view_module": "@jupyter-widgets/base",
            "overflow": null,
            "_model_module_version": "1.2.0",
            "_view_count": null,
            "flex_flow": null,
            "width": null,
            "min_width": null,
            "border": null,
            "align_items": null,
            "bottom": null,
            "_model_module": "@jupyter-widgets/base",
            "top": null,
            "grid_column": null,
            "overflow_y": null,
            "overflow_x": null,
            "grid_auto_flow": null,
            "grid_area": null,
            "grid_template_columns": null,
            "flex": null,
            "_model_name": "LayoutModel",
            "justify_items": null,
            "grid_row": null,
            "max_height": null,
            "align_content": null,
            "visibility": null,
            "align_self": null,
            "height": null,
            "min_height": null,
            "padding": null,
            "grid_auto_rows": null,
            "grid_gap": null,
            "max_width": null,
            "order": null,
            "_view_module_version": "1.2.0",
            "grid_template_areas": null,
            "object_position": null,
            "object_fit": null,
            "grid_auto_columns": null,
            "margin": null,
            "display": null,
            "left": null
          }
        },
        "e4297c1270644b8a93f5ad42f31316de": {
          "model_module": "@jupyter-widgets/controls",
          "model_name": "LabelModel",
          "state": {
            "_view_name": "LabelView",
            "style": "IPY_MODEL_198835a9395c405e8d214630c9381766",
            "_dom_classes": [],
            "description": "",
            "_model_name": "LabelModel",
            "placeholder": "​",
            "_view_module": "@jupyter-widgets/controls",
            "_model_module_version": "1.5.0",
            "value": " 0.01MB of 0.01MB uploaded (0.00MB deduped)\r",
            "_view_count": null,
            "_view_module_version": "1.5.0",
            "description_tooltip": null,
            "_model_module": "@jupyter-widgets/controls",
            "layout": "IPY_MODEL_40a20c895cf84bb89eca67216cda61e9"
          }
        },
        "7d3adb09db4146b7865a0e8602e0d969": {
          "model_module": "@jupyter-widgets/controls",
          "model_name": "FloatProgressModel",
          "state": {
            "_view_name": "ProgressView",
            "style": "IPY_MODEL_037da32832b6439b97c2c4d2c2441d43",
            "_dom_classes": [],
            "description": "",
            "_model_name": "FloatProgressModel",
            "bar_style": "",
            "max": 1,
            "_view_module": "@jupyter-widgets/controls",
            "_model_module_version": "1.5.0",
            "value": 1,
            "_view_count": null,
            "_view_module_version": "1.5.0",
            "orientation": "horizontal",
            "min": 0,
            "description_tooltip": null,
            "_model_module": "@jupyter-widgets/controls",
            "layout": "IPY_MODEL_819d35920ffe4326ad0d84ed186ae146"
          }
        },
        "198835a9395c405e8d214630c9381766": {
          "model_module": "@jupyter-widgets/controls",
          "model_name": "DescriptionStyleModel",
          "state": {
            "_view_name": "StyleView",
            "_model_name": "DescriptionStyleModel",
            "description_width": "",
            "_view_module": "@jupyter-widgets/base",
            "_model_module_version": "1.5.0",
            "_view_count": null,
            "_view_module_version": "1.2.0",
            "_model_module": "@jupyter-widgets/controls"
          }
        },
        "40a20c895cf84bb89eca67216cda61e9": {
          "model_module": "@jupyter-widgets/base",
          "model_name": "LayoutModel",
          "state": {
            "_view_name": "LayoutView",
            "grid_template_rows": null,
            "right": null,
            "justify_content": null,
            "_view_module": "@jupyter-widgets/base",
            "overflow": null,
            "_model_module_version": "1.2.0",
            "_view_count": null,
            "flex_flow": null,
            "width": null,
            "min_width": null,
            "border": null,
            "align_items": null,
            "bottom": null,
            "_model_module": "@jupyter-widgets/base",
            "top": null,
            "grid_column": null,
            "overflow_y": null,
            "overflow_x": null,
            "grid_auto_flow": null,
            "grid_area": null,
            "grid_template_columns": null,
            "flex": null,
            "_model_name": "LayoutModel",
            "justify_items": null,
            "grid_row": null,
            "max_height": null,
            "align_content": null,
            "visibility": null,
            "align_self": null,
            "height": null,
            "min_height": null,
            "padding": null,
            "grid_auto_rows": null,
            "grid_gap": null,
            "max_width": null,
            "order": null,
            "_view_module_version": "1.2.0",
            "grid_template_areas": null,
            "object_position": null,
            "object_fit": null,
            "grid_auto_columns": null,
            "margin": null,
            "display": null,
            "left": null
          }
        },
        "037da32832b6439b97c2c4d2c2441d43": {
          "model_module": "@jupyter-widgets/controls",
          "model_name": "ProgressStyleModel",
          "state": {
            "_view_name": "StyleView",
            "_model_name": "ProgressStyleModel",
            "description_width": "",
            "_view_module": "@jupyter-widgets/base",
            "_model_module_version": "1.5.0",
            "_view_count": null,
            "_view_module_version": "1.2.0",
            "bar_color": null,
            "_model_module": "@jupyter-widgets/controls"
          }
        },
        "819d35920ffe4326ad0d84ed186ae146": {
          "model_module": "@jupyter-widgets/base",
          "model_name": "LayoutModel",
          "state": {
            "_view_name": "LayoutView",
            "grid_template_rows": null,
            "right": null,
            "justify_content": null,
            "_view_module": "@jupyter-widgets/base",
            "overflow": null,
            "_model_module_version": "1.2.0",
            "_view_count": null,
            "flex_flow": null,
            "width": null,
            "min_width": null,
            "border": null,
            "align_items": null,
            "bottom": null,
            "_model_module": "@jupyter-widgets/base",
            "top": null,
            "grid_column": null,
            "overflow_y": null,
            "overflow_x": null,
            "grid_auto_flow": null,
            "grid_area": null,
            "grid_template_columns": null,
            "flex": null,
            "_model_name": "LayoutModel",
            "justify_items": null,
            "grid_row": null,
            "max_height": null,
            "align_content": null,
            "visibility": null,
            "align_self": null,
            "height": null,
            "min_height": null,
            "padding": null,
            "grid_auto_rows": null,
            "grid_gap": null,
            "max_width": null,
            "order": null,
            "_view_module_version": "1.2.0",
            "grid_template_areas": null,
            "object_position": null,
            "object_fit": null,
            "grid_auto_columns": null,
            "margin": null,
            "display": null,
            "left": null
          }
        },
        "ceb4ea658ef64be8ac1dd5378432328f": {
          "model_module": "@jupyter-widgets/controls",
          "model_name": "VBoxModel",
          "state": {
            "_view_name": "VBoxView",
            "_dom_classes": [],
            "_model_name": "VBoxModel",
            "_view_module": "@jupyter-widgets/controls",
            "_model_module_version": "1.5.0",
            "_view_count": null,
            "_view_module_version": "1.5.0",
            "box_style": "",
            "layout": "IPY_MODEL_6c76d84e2d37423c8d59b3127b80a8f5",
            "_model_module": "@jupyter-widgets/controls",
            "children": [
              "IPY_MODEL_9ce8ef226f0d4524b5b271fae50df14c",
              "IPY_MODEL_e0ac99737b0347198d82b8b4f1e697e6"
            ]
          }
        },
        "6c76d84e2d37423c8d59b3127b80a8f5": {
          "model_module": "@jupyter-widgets/base",
          "model_name": "LayoutModel",
          "state": {
            "_view_name": "LayoutView",
            "grid_template_rows": null,
            "right": null,
            "justify_content": null,
            "_view_module": "@jupyter-widgets/base",
            "overflow": null,
            "_model_module_version": "1.2.0",
            "_view_count": null,
            "flex_flow": null,
            "width": null,
            "min_width": null,
            "border": null,
            "align_items": null,
            "bottom": null,
            "_model_module": "@jupyter-widgets/base",
            "top": null,
            "grid_column": null,
            "overflow_y": null,
            "overflow_x": null,
            "grid_auto_flow": null,
            "grid_area": null,
            "grid_template_columns": null,
            "flex": null,
            "_model_name": "LayoutModel",
            "justify_items": null,
            "grid_row": null,
            "max_height": null,
            "align_content": null,
            "visibility": null,
            "align_self": null,
            "height": null,
            "min_height": null,
            "padding": null,
            "grid_auto_rows": null,
            "grid_gap": null,
            "max_width": null,
            "order": null,
            "_view_module_version": "1.2.0",
            "grid_template_areas": null,
            "object_position": null,
            "object_fit": null,
            "grid_auto_columns": null,
            "margin": null,
            "display": null,
            "left": null
          }
        },
        "9ce8ef226f0d4524b5b271fae50df14c": {
          "model_module": "@jupyter-widgets/controls",
          "model_name": "LabelModel",
          "state": {
            "_view_name": "LabelView",
            "style": "IPY_MODEL_e09dd7c18a584dcba4b005d67ab449de",
            "_dom_classes": [],
            "description": "",
            "_model_name": "LabelModel",
            "placeholder": "​",
            "_view_module": "@jupyter-widgets/controls",
            "_model_module_version": "1.5.0",
            "value": " 0.27MB of 0.27MB uploaded (0.00MB deduped)\r",
            "_view_count": null,
            "_view_module_version": "1.5.0",
            "description_tooltip": null,
            "_model_module": "@jupyter-widgets/controls",
            "layout": "IPY_MODEL_69b719b4725245fcb757f80794f78436"
          }
        },
        "e0ac99737b0347198d82b8b4f1e697e6": {
          "model_module": "@jupyter-widgets/controls",
          "model_name": "FloatProgressModel",
          "state": {
            "_view_name": "ProgressView",
            "style": "IPY_MODEL_8ac5b2876e1e49ef9a633765f83db0c2",
            "_dom_classes": [],
            "description": "",
            "_model_name": "FloatProgressModel",
            "bar_style": "",
            "max": 1,
            "_view_module": "@jupyter-widgets/controls",
            "_model_module_version": "1.5.0",
            "value": 1,
            "_view_count": null,
            "_view_module_version": "1.5.0",
            "orientation": "horizontal",
            "min": 0,
            "description_tooltip": null,
            "_model_module": "@jupyter-widgets/controls",
            "layout": "IPY_MODEL_b2b39cf866f34cbc87fd03b9c9b44d60"
          }
        },
        "e09dd7c18a584dcba4b005d67ab449de": {
          "model_module": "@jupyter-widgets/controls",
          "model_name": "DescriptionStyleModel",
          "state": {
            "_view_name": "StyleView",
            "_model_name": "DescriptionStyleModel",
            "description_width": "",
            "_view_module": "@jupyter-widgets/base",
            "_model_module_version": "1.5.0",
            "_view_count": null,
            "_view_module_version": "1.2.0",
            "_model_module": "@jupyter-widgets/controls"
          }
        },
        "69b719b4725245fcb757f80794f78436": {
          "model_module": "@jupyter-widgets/base",
          "model_name": "LayoutModel",
          "state": {
            "_view_name": "LayoutView",
            "grid_template_rows": null,
            "right": null,
            "justify_content": null,
            "_view_module": "@jupyter-widgets/base",
            "overflow": null,
            "_model_module_version": "1.2.0",
            "_view_count": null,
            "flex_flow": null,
            "width": null,
            "min_width": null,
            "border": null,
            "align_items": null,
            "bottom": null,
            "_model_module": "@jupyter-widgets/base",
            "top": null,
            "grid_column": null,
            "overflow_y": null,
            "overflow_x": null,
            "grid_auto_flow": null,
            "grid_area": null,
            "grid_template_columns": null,
            "flex": null,
            "_model_name": "LayoutModel",
            "justify_items": null,
            "grid_row": null,
            "max_height": null,
            "align_content": null,
            "visibility": null,
            "align_self": null,
            "height": null,
            "min_height": null,
            "padding": null,
            "grid_auto_rows": null,
            "grid_gap": null,
            "max_width": null,
            "order": null,
            "_view_module_version": "1.2.0",
            "grid_template_areas": null,
            "object_position": null,
            "object_fit": null,
            "grid_auto_columns": null,
            "margin": null,
            "display": null,
            "left": null
          }
        },
        "8ac5b2876e1e49ef9a633765f83db0c2": {
          "model_module": "@jupyter-widgets/controls",
          "model_name": "ProgressStyleModel",
          "state": {
            "_view_name": "StyleView",
            "_model_name": "ProgressStyleModel",
            "description_width": "",
            "_view_module": "@jupyter-widgets/base",
            "_model_module_version": "1.5.0",
            "_view_count": null,
            "_view_module_version": "1.2.0",
            "bar_color": null,
            "_model_module": "@jupyter-widgets/controls"
          }
        },
        "b2b39cf866f34cbc87fd03b9c9b44d60": {
          "model_module": "@jupyter-widgets/base",
          "model_name": "LayoutModel",
          "state": {
            "_view_name": "LayoutView",
            "grid_template_rows": null,
            "right": null,
            "justify_content": null,
            "_view_module": "@jupyter-widgets/base",
            "overflow": null,
            "_model_module_version": "1.2.0",
            "_view_count": null,
            "flex_flow": null,
            "width": null,
            "min_width": null,
            "border": null,
            "align_items": null,
            "bottom": null,
            "_model_module": "@jupyter-widgets/base",
            "top": null,
            "grid_column": null,
            "overflow_y": null,
            "overflow_x": null,
            "grid_auto_flow": null,
            "grid_area": null,
            "grid_template_columns": null,
            "flex": null,
            "_model_name": "LayoutModel",
            "justify_items": null,
            "grid_row": null,
            "max_height": null,
            "align_content": null,
            "visibility": null,
            "align_self": null,
            "height": null,
            "min_height": null,
            "padding": null,
            "grid_auto_rows": null,
            "grid_gap": null,
            "max_width": null,
            "order": null,
            "_view_module_version": "1.2.0",
            "grid_template_areas": null,
            "object_position": null,
            "object_fit": null,
            "grid_auto_columns": null,
            "margin": null,
            "display": null,
            "left": null
          }
        }
      }
    }
  },
  "cells": [
    {
      "cell_type": "markdown",
      "metadata": {
        "id": "view-in-github",
        "colab_type": "text"
      },
      "source": [
        "<a href=\"https://colab.research.google.com/github/jb-diplom/humour-detection/blob/main/notebooks/NLM_Trainer.ipynb\" target=\"_parent\"><img src=\"https://colab.research.google.com/assets/colab-badge.svg\" alt=\"Open In Colab\"/></a>"
      ]
    },
    {
      "cell_type": "markdown",
      "metadata": {
        "id": "ccHJqOajNN7l"
      },
      "source": [
        "#The Effect of Humour in Political Messaging: \n",
        "An investigation combining fine-tuned neural language models and social network analysis<br>\n",
        "by<br>\n",
        "Janice Butler: University of Amsterdam, Master Thesis 2021"
      ]
    },
    {
      "cell_type": "markdown",
      "metadata": {
        "id": "DKpiNY516JUf"
      },
      "source": [
        "## Introduction\n",
        "This notebook implements the fine-tuning of various neural language models (NLMs) based on a new corpus of annotated humorous texts.\n",
        "Two classifications are made\n",
        "\n",
        "1.   Degree of humour\n",
        "2.   Comic styles\n",
        "\n",
        "## Method \n",
        "The training script is modified from [run_glue.py](https://huggingface.co/transformers/examples.html#glue). \n",
        "The training is automatically tracked in the Weights & Biases dashboard. \n",
        "\n",
        "### Supervised Fine-Tuning\n",
        "\n",
        "This script fine-tunes NMLs on corpora scraped from several sub-reddits:\n",
        "* https://www.reddit.com/r/Jokes/\n",
        "* https://www.reddit.com/r/satire/\n",
        "* https://www.reddit.com/r/Showerthoughts/\n",
        "* https://www.reddit.com/r/SurrealHumor\n",
        "\n",
        "and from twitter:\n",
        "* https://twitter.com/midnight\n",
        "\n",
        "For non-humorous texts an equal amount of data was taken from these serious news outlets:\n",
        "* https://twitter.com/AP\n",
        "* https://twitter.com/BBCworld\n",
        "* https://twitter.com/ITN\n",
        "* https://twitter.com/ITVnews\n",
        "* https://twitter.com/SkyNewsPolitics\n",
        "* https://twitter.com/TheEconomist\n",
        "\n",
        "### Annotation\n",
        "The reddit data is automatically annotated into 5 grades  according to the up-votes per subreddit. All other annotation was achieved through manual categorisation, for humour degree on the https://twitter.com/midnight tweets and in all cases for type of humour. The categories being:\n",
        "* Serious\n",
        "* Fun\n",
        "* Benevolent humour\n",
        "* Wit\n",
        "* Nonsense\n",
        "* Irony\n",
        "* Satire\n",
        "* Sarcasm\n",
        "* Cynicism"
      ]
    },
    {
      "cell_type": "markdown",
      "metadata": {
        "id": "pt71k9Ew6Qp6"
      },
      "source": [
        "## Install dependencies\n",
        "\n",
        "Pre-Trained Neural Language Models (NLMs) are taken from [the repository at Huggingface](https://huggingface.co/models). The generic Huggingface [Transformers API](https://huggingface.co/transformers/)  is used throughout for fine-tuning and the [Huggingface Pipeline API](https://huggingface.co/transformers/main_classes/pipelines.html) is taken for easy utilisation of the finished models\n",
        "\n",
        "### NLM Training-Performance Monitoring\n",
        "During fine-tuning a multitude of parameters are relayed to a data-base at https://wandb.ai/site. Additionally the fine-tuned model and all resultant meta-data for later cataloging of results and use with the model are recorded in projects defined [here](https://wandb.ai/jb-diplom) \n",
        " \n",
        "\n",
        "```\n",
        "TODO: add screenshot loaded from GIT\n",
        "```\n",
        "\n",
        "\n",
        "\n",
        "Install the Hugging Face transformers and Weights & Biases libraries, and the dataset and training script for humour fine-tuning."
      ]
    },
    {
      "cell_type": "markdown",
      "metadata": {
        "id": "_J05Pf8OnEyT"
      },
      "source": [
        "## Installation and Import of Required Packages and Libraries\n",
        "\n",
        "The dependencies are as follows:\n",
        "\n",
        "\n",
        "* Huggingface framework for loading and training models, preprocessing of data\n",
        "* Optionally install transformers datasets, but not needed if own data/project data is being used\n",
        "* Wandb is used for visualization of results on the project dashboard https://wandb.ai/jb-diplom/janice-demo\n",
        "* sentencepiece is required for deberta models\n",
        "* General purpose libraries (os, glob, pandas, numpy)\n",
        "* GUI and visualization libraries (data_table, ipywidgets, plotly, tqdm, matplotlib\n",
        "* For calculating accuracy of fine-tuned models and visualizing the results , sklearn.metrics is used\n",
        "\n"
      ]
    },
    {
      "cell_type": "code",
      "metadata": {
        "colab": {
          "base_uri": "https://localhost:8080/"
        },
        "id": "mUP7zxN2NKUi",
        "cellView": "form",
        "outputId": "d935330b-4213-44bc-c1c6-31d05dc7a0f2"
      },
      "source": [
        "#@markdown Do imports\n",
        "!pip install transformers -qq           # huggingface framework for loading and training models, preprocessing of data\n",
        "# Uncomment following line to carry out benchmark tests with hf datasets\n",
        "!pip install transformers datasets -qq  # currently transformers datasets --> add own data\n",
        "!pip install wandb -qq                  # for visualization of results on the project dashboard https://wandb.ai/jb-diplom/janice-demo\n",
        "!pip install sentencepiece              # required for deberta\n",
        "!pip install chart_studio\n",
        "# this was the basis for the inital imlementation\n",
        "# !wget https://github.com/huggingface/transformers/blob/master/examples/text-classification/run_glue.py -qq\n",
        "\n",
        "# Weights and Biases logging of training metrics and archiving of training results\n",
        "import wandb\n",
        "\n",
        "# General purpose libraries\n",
        "from   google.colab import drive\n",
        "import glob\n",
        "import os\n",
        "import pandas as pd\n",
        "import numpy as np\n",
        "import datetime \n",
        "\n",
        "# Visualization libraries\n",
        "%load_ext google.colab.data_table\n",
        "from   google.colab import data_table\n",
        "import ipywidgets as widgets\n",
        "import plotly.express as px\n",
        "import plotly.graph_objects as go\n",
        "from   tqdm.notebook import trange, tqdm\n",
        "import matplotlib.pyplot as plt # For multi plots\n",
        "\n",
        "# Hugging face API for loading pre-trained models, fine-tuning and utilization\n",
        "import transformers\n",
        "from   transformers import AutoModelForSequenceClassification, AutoConfig, pipeline\n",
        "\n",
        "# Stuff for calculating accuracy of fine-tuned models\n",
        "from sklearn.metrics import confusion_matrix\n",
        "from sklearn.metrics import roc_curve\n",
        "from sklearn.metrics import precision_recall_curve\n",
        "from sklearn.metrics import average_precision_score\n",
        "from sklearn import metrics\n",
        "\n",
        "# Stuff for displaying metrics of fine-tuned models\n",
        "from sklearn.metrics import ConfusionMatrixDisplay\n",
        "from sklearn.metrics import RocCurveDisplay\n",
        "from sklearn.metrics import PrecisionRecallDisplay"
      ],
      "execution_count": 2,
      "outputs": [
        {
          "output_type": "stream",
          "text": [
            "\u001b[K     |████████████████████████████████| 2.3MB 6.8MB/s \n",
            "\u001b[K     |████████████████████████████████| 3.3MB 50.0MB/s \n",
            "\u001b[K     |████████████████████████████████| 901kB 67.1MB/s \n",
            "\u001b[K     |████████████████████████████████| 225kB 7.7MB/s \n",
            "\u001b[K     |████████████████████████████████| 245kB 56.8MB/s \n",
            "\u001b[K     |████████████████████████████████| 112kB 74.8MB/s \n",
            "\u001b[K     |████████████████████████████████| 1.8MB 8.2MB/s \n",
            "\u001b[K     |████████████████████████████████| 133kB 62.8MB/s \n",
            "\u001b[K     |████████████████████████████████| 102kB 13.3MB/s \n",
            "\u001b[K     |████████████████████████████████| 174kB 63.9MB/s \n",
            "\u001b[K     |████████████████████████████████| 71kB 10.8MB/s \n",
            "\u001b[?25h  Building wheel for pathtools (setup.py) ... \u001b[?25l\u001b[?25hdone\n",
            "  Building wheel for subprocess32 (setup.py) ... \u001b[?25l\u001b[?25hdone\n",
            "Collecting sentencepiece\n",
            "\u001b[?25l  Downloading https://files.pythonhosted.org/packages/f5/99/e0808cb947ba10f575839c43e8fafc9cc44e4a7a2c8f79c60db48220a577/sentencepiece-0.1.95-cp37-cp37m-manylinux2014_x86_64.whl (1.2MB)\n",
            "\u001b[K     |████████████████████████████████| 1.2MB 9.7MB/s \n",
            "\u001b[?25hInstalling collected packages: sentencepiece\n",
            "Successfully installed sentencepiece-0.1.95\n",
            "Collecting chart_studio\n",
            "\u001b[?25l  Downloading https://files.pythonhosted.org/packages/ca/ce/330794a6b6ca4b9182c38fc69dd2a9cbff60fd49421cb8648ee5fee352dc/chart_studio-1.1.0-py3-none-any.whl (64kB)\n",
            "\u001b[K     |████████████████████████████████| 71kB 5.2MB/s \n",
            "\u001b[?25hRequirement already satisfied: requests in /usr/local/lib/python3.7/dist-packages (from chart_studio) (2.23.0)\n",
            "Requirement already satisfied: plotly in /usr/local/lib/python3.7/dist-packages (from chart_studio) (4.4.1)\n",
            "Requirement already satisfied: retrying>=1.3.3 in /usr/local/lib/python3.7/dist-packages (from chart_studio) (1.3.3)\n",
            "Requirement already satisfied: six in /usr/local/lib/python3.7/dist-packages (from chart_studio) (1.15.0)\n",
            "Requirement already satisfied: idna<3,>=2.5 in /usr/local/lib/python3.7/dist-packages (from requests->chart_studio) (2.10)\n",
            "Requirement already satisfied: chardet<4,>=3.0.2 in /usr/local/lib/python3.7/dist-packages (from requests->chart_studio) (3.0.4)\n",
            "Requirement already satisfied: certifi>=2017.4.17 in /usr/local/lib/python3.7/dist-packages (from requests->chart_studio) (2020.12.5)\n",
            "Requirement already satisfied: urllib3!=1.25.0,!=1.25.1,<1.26,>=1.21.1 in /usr/local/lib/python3.7/dist-packages (from requests->chart_studio) (1.24.3)\n",
            "Installing collected packages: chart-studio\n",
            "Successfully installed chart-studio-1.1.0\n"
          ],
          "name": "stdout"
        }
      ]
    },
    {
      "cell_type": "markdown",
      "metadata": {
        "id": "bv5DsG_bALsh"
      },
      "source": [
        "## API Key\n",
        "The following calls registers this run at Weights and Biases github unless a session is already active.\n",
        "Optionally, we can set environment variables to customize W&B logging. See [documentation](https://docs.wandb.com/library/integrations/huggingface).\n",
        "\n",
        "### Google Drive\n",
        "The project data is hosted on GDrive to enable an easy interface with [Google Colab](https://colab.research.google.com/). The training data and results are taken from and stored to directories on GDrive, which has to be mounted and requires appropriate credentials."
      ]
    },
    {
      "cell_type": "code",
      "metadata": {
        "cellView": "form",
        "colab": {
          "base_uri": "https://localhost:8080/",
          "height": 67
        },
        "id": "a3FFmY4JqWdN",
        "outputId": "c772421d-abd2-4b13-cba3-04b5e7b1fa6f"
      },
      "source": [
        "#@markdown Connect to wandb\n",
        "wandb.login()"
      ],
      "execution_count": 3,
      "outputs": [
        {
          "output_type": "display_data",
          "data": {
            "application/javascript": [
              "\n",
              "        window._wandbApiKey = new Promise((resolve, reject) => {\n",
              "            function loadScript(url) {\n",
              "            return new Promise(function(resolve, reject) {\n",
              "                let newScript = document.createElement(\"script\");\n",
              "                newScript.onerror = reject;\n",
              "                newScript.onload = resolve;\n",
              "                document.body.appendChild(newScript);\n",
              "                newScript.src = url;\n",
              "            });\n",
              "            }\n",
              "            loadScript(\"https://cdn.jsdelivr.net/npm/postmate/build/postmate.min.js\").then(() => {\n",
              "            const iframe = document.createElement('iframe')\n",
              "            iframe.style.cssText = \"width:0;height:0;border:none\"\n",
              "            document.body.appendChild(iframe)\n",
              "            const handshake = new Postmate({\n",
              "                container: iframe,\n",
              "                url: 'https://wandb.ai/authorize'\n",
              "            });\n",
              "            const timeout = setTimeout(() => reject(\"Couldn't auto authenticate\"), 5000)\n",
              "            handshake.then(function(child) {\n",
              "                child.on('authorize', data => {\n",
              "                    clearTimeout(timeout)\n",
              "                    resolve(data)\n",
              "                });\n",
              "            });\n",
              "            })\n",
              "        });\n",
              "    "
            ],
            "text/plain": [
              "<IPython.core.display.Javascript object>"
            ]
          },
          "metadata": {
            "tags": []
          }
        },
        {
          "output_type": "stream",
          "text": [
            "\u001b[34m\u001b[1mwandb\u001b[0m: Appending key for api.wandb.ai to your netrc file: /root/.netrc\n"
          ],
          "name": "stderr"
        },
        {
          "output_type": "execute_result",
          "data": {
            "text/plain": [
              "True"
            ]
          },
          "metadata": {
            "tags": []
          },
          "execution_count": 3
        }
      ]
    },
    {
      "cell_type": "code",
      "metadata": {
        "id": "8-yWRxcu8kCB",
        "colab": {
          "base_uri": "https://localhost:8080/"
        },
        "cellView": "form",
        "outputId": "431a9d3b-cc6a-4ec2-c247-12b494bbde43"
      },
      "source": [
        "#@markdown Mount GDrive\n",
        "drive.mount('/content/gdrive',True)\n",
        "file_list = glob.glob(\"/content/gdrive/MyDrive/ColabNotebooks/Visualization/data/*\")"
      ],
      "execution_count": 4,
      "outputs": [
        {
          "output_type": "stream",
          "text": [
            "Mounted at /content/gdrive\n"
          ],
          "name": "stdout"
        }
      ]
    },
    {
      "cell_type": "code",
      "metadata": {
        "id": "uB74DMmeMqq9",
        "cellView": "form"
      },
      "source": [
        "#@markdown Set some global values for consistency of output styling\n",
        "plot_bgcolor='rgb(150,150,160)'\n",
        "cmap='viridis'\n",
        "color_palette_r = px.colors.sequential.Viridis_r\n",
        "color_palette   = px.colors.sequential.Viridis"
      ],
      "execution_count": 6,
      "outputs": []
    },
    {
      "cell_type": "markdown",
      "metadata": {
        "id": "nb4QBSswX1HV"
      },
      "source": [
        "# Specify Parameters and Train Model"
      ]
    },
    {
      "cell_type": "markdown",
      "metadata": {
        "id": "TNWjjJYhNQx3"
      },
      "source": [
        "Here you can choose which pre-trained NL model to fine-tune. Further options are:\n",
        "\n",
        "*   Which training-data to use\n",
        "*   Which project to save run-time data to\n",
        "*   The GLUE-Task to use\n",
        "*   Initial learning rate\n",
        "*   Number of epochs to train\n",
        "*   Stepsize for logging\n",
        "*   Whether to freeze layers\n",
        "*   Testrun with mini dataset or not\n",
        "\n",
        "\n",
        "\n",
        "\n",
        "\n",
        "\n",
        "\n"
      ]
    },
    {
      "cell_type": "code",
      "metadata": {
        "id": "SYV7y-FvdAFT",
        "colab": {
          "base_uri": "https://localhost:8080/"
        },
        "outputId": "c22c0d21-eb2a-491a-8442-571005455f9e"
      },
      "source": [
        "#@title Enter Parameters for Training { vertical-output: true, form-width: \"50%\", display-mode: \"form\" }\n",
        "\n",
        "#@markdown Specify Parameters for Training\n",
        "#@markdown ---\n",
        "\n",
        "# Take viable names from https://huggingface.co/transformers/pretrained_models.html\n",
        "Comment = \"ernie-tiny-htype_5e\" #@param {type:\"string\"}\n",
        "Model = \"nghuyong/ernie-tiny\" #@param [\"bert-base-uncased\", \"distilbert-base-uncased\", \"gpt2\", \"distilgpt2\", \"gpt2-medium\", \"xlnet-base-cased\", \"roberta-base\", \"distilroberta-base\", \"t5-base\", \"microsoft/deberta-base\", \"google/electra-base-discriminator\", \"google/electra-large-discriminator\", \"vinai/bertweet-base\", \"nghuyong/ernie-tiny\", \"nghuyong/ernie-2.0-large-en\", \"nghuyong/ernie-2.0-en\", \"distilgpt2\", \"gpt2-large\"] {allow-input: true}\n",
        "GLUE_Task = \"\" #@param [\"\", \"cola\", \"mnli\", \"mrpc\", \"qnli\", \"qqp\", \"rte\", \"sst2\", \"stsb\", \"wnli\", \"GPT2\"]\n",
        "Initial_Learn_Rate = 2e-5 #@param {type: \"number\"}\n",
        "\n",
        "NrEpochs =   5#@param {type: \"number\"}\n",
        "Do_Train = True #@param {type:\"boolean\"}\n",
        "Do_Eval = True #@param {type:\"boolean\"}\n",
        "Do_Predict = True #@param {type:\"boolean\"}\n",
        " \n",
        "\n",
        "#@markdown ---\n",
        "#@markdown Parameters for Quick Tests\n",
        "#@markdown ---\n",
        "do_quick_test = False #@param {type:\"boolean\"}\n",
        "Freeze_Layers = False #@param {type:\"boolean\"}\n",
        "max_train_samples = 20000 #@param {type:\"slider\", min:100, max:50000, step:100}\n",
        "max_val_samples = 2000 #@param {type:\"slider\", min:10, max:10000, step:10}\n",
        "max_test_samples = 2000 #@param {type:\"slider\", min:10, max:10000, step:10}\n",
        "#Percent_of_Trainingdata_to_use = 10 #@param {type:\"slider\", min: 5, max:100, step:5}\n",
        "\n",
        "#@markdown ---\n",
        "#@markdown Visualization Parameters\n",
        "#@markdown ---\n",
        "\n",
        "Do_Visualization = False #@param {type:\"boolean\"}\n",
        "WandB_Project = \"janice-final\" #@param [\"thesis\", \"thesis-test-runs\", \"humour-type\", \"humour degree\", \"binary humour degree\", \"janice-final\"] {allow-input: true}\n",
        "Logging_Steps = 20 #@param {type:\"slider\", min:10, max:100, step:10}\n",
        "\n",
        "#@markdown Choose Files for Training \n",
        "#@markdown ---\n",
        "file_ext = \".tsv\" #@param [\".tsv\", \".csv\", \".json\"] {allow-input: true}\n",
        "own_modelid=Comment + datetime.datetime.now().strftime('%Y-%m-%d %H:%M:%S').replace(' ','_').replace(':','.')\n",
        "print (\"New Model ID:\", own_modelid)"
      ],
      "execution_count": 40,
      "outputs": [
        {
          "output_type": "stream",
          "text": [
            "New Model ID: ernie-tiny-htype_5e2021-05-27_21.41.29\n"
          ],
          "name": "stdout"
        }
      ]
    },
    {
      "cell_type": "code",
      "metadata": {
        "colab": {
          "base_uri": "https://localhost:8080/",
          "height": 145,
          "referenced_widgets": [
            "f19c79ffcebc496385f2521d0eb239c4",
            "5ba48d43e5b647d7a32f4da804bd5cca",
            "f57aa56866da440a912120b4cc31dc69",
            "16dd344fda0d47ed9c73f065a94f04f2",
            "20a4abde630a4aa2b5d9821a5d1e008b",
            "7ab08ee209174b8aa1d392ce5b64c6a9",
            "1b77de945d794b4d8825f7536bcbcda2",
            "50d74958b09a4b3ca006ff2c0d1f8903",
            "c3a7a55cf01b433ebb89557a9012a42e",
            "90b1ea05969647578fb088e9aa55e15e",
            "c8819e6a1b0a41f4a3766eba1bea479f",
            "fb1bedee20d74d6fb2d3f845a88edf69",
            "d3c7ef983b5448cc929182304f6b648c",
            "41b26b6c2886460baebc85486be166de",
            "11a5647827dc430d890398e1261f2f6a",
            "90bf3ef7dc4944bd839e677bdc9e3bb9",
            "1413daae907b4bb3b774e2c32815a7e1",
            "bff78b0ee94c44c69ee24c984c2d77ef",
            "a025046aa08c4fe1a04e25ee48bd81f7",
            "da19fd70046e469aa9efbeb718e1cb34",
            "a1822c0a9b3d408cacf9d15a6307063f",
            "162fa544f0b3499590a045f8b28ad914",
            "90e2bf42e84c49d18ef7f0edfe2f83d8",
            "4503ac3030314289b9de8fc2d540b2d8",
            "dc1f7c1c6d9842f3b59cbf93e61d6d9a",
            "1f45e8bd55434b6d8eb4eec4d5856072",
            "f2d74f6ab4d640b59519553629a38d64",
            "daaf1266d8224e6781fbce8d1c50953a",
            "48494a92675e429daf96cbac22436f2b",
            "ae5053acf6c1406f8f68a07cc05eebb9"
          ]
        },
        "id": "EhjzcbDMB9JC",
        "cellView": "form",
        "outputId": "7a9669fa-0440-4e63-a7cb-da69efaf572e"
      },
      "source": [
        "#@markdown Which files would you like to use for traiing the NLM?\n",
        "\n",
        "dir_list = glob.glob(\"/content/gdrive/MyDrive/ColabNotebooks/Visualization/*/\")\n",
        "dir_choice = widgets.Dropdown(options=dir_list,value=dir_list[0])\n",
        "# file_list = glob.glob(\"/content/gdrive/MyDrive/ColabNotebooks/Visualization/data/*\"+ file_ext)\n",
        "# file_list = glob.glob(\"/content/gdrive/MyDrive/ColabNotebooks/Visualization/msc_data/*\"+ file_ext)\n",
        "file_list = glob.glob(\"/content/gdrive/MyDrive/ColabNotebooks/Visualization/midnight/*\"+ file_ext)\n",
        "\n",
        "file_list.insert(0,\"\")\n",
        "train_file = widgets.Dropdown(options=file_list,value=\"\")\n",
        "validation_file = widgets.Dropdown(options=file_list,value=\"\")\n",
        "test_file = widgets.Dropdown(options=file_list,value=\"\")\n",
        "\n",
        "items = [widgets.Label(value=\"Source Directory\"),\n",
        "         widgets.Label(value= \"Training\"),\n",
        "         widgets.Label(value=\"Validation\"),\n",
        "         widgets.Label(value=\"Test\")]\n",
        "\n",
        "left_box = widgets.VBox([items[0], items[1], items[2], items[3]],width='10%')\n",
        "right_box = widgets.VBox([dir_choice,train_file,validation_file,test_file],width='80%')\n",
        "file_pickers=widgets.HBox([left_box, right_box], width='100%')\n",
        "# file_pickers.overflow_x = 'auto'\n",
        "right_box.overflow_x = 'auto'\n",
        "\n",
        "def updateDoclist(b):\n",
        "    train_file.options=glob.glob(dir_choice.value + \"*train*\" + file_ext)\n",
        "    validation_file.options=glob.glob(dir_choice.value + \"*dev*\" + file_ext)\n",
        "    test_file.options=glob.glob(dir_choice.value + \"*test*\" + file_ext)\n",
        "\n",
        "dir_choice.observe(updateDoclist, names='value')\n",
        "display(file_pickers)\n",
        "updateDoclist(None)\n",
        "do_restart = False"
      ],
      "execution_count": 35,
      "outputs": [
        {
          "output_type": "display_data",
          "data": {
            "application/vnd.jupyter.widget-view+json": {
              "model_id": "f19c79ffcebc496385f2521d0eb239c4",
              "version_minor": 0,
              "version_major": 2
            },
            "text/plain": [
              "HBox(children=(VBox(children=(Label(value='Source Directory'), Label(value='Training'), Label(value='Validatio…"
            ]
          },
          "metadata": {
            "tags": []
          }
        }
      ]
    },
    {
      "cell_type": "code",
      "metadata": {
        "id": "_SjSMAp6UTsi",
        "cellView": "form"
      },
      "source": [
        "#@markdown Optionally specify the restart of an aborted run\n",
        "#@markdown ---\n",
        "\n",
        "do_restart = False #@param {type:\"boolean\"}\n",
        "specify_model_path = \"/content/gdrive/MyDrive/ColabNotebooks/SavedModels/\" #@param {type:\"string\"}\n",
        "\n",
        "#@markdown **Checkpoint Name** (e.g. `checkpoint-12000`)\n",
        "specify_checkpoint = \"checkpoint-35000\" #@param {type:\"string\"}\n",
        "\n",
        "#@markdown ---\n",
        "#@markdown **Model Name**<br>\n",
        "#@markdown Fetch model Name from the W & B workspace e.g. [here](https://wandb.ai/jb-diplom/janice-final/table?workspace=user-jb-diplom) <br>\n",
        "#@markdown Should be of the form <Comment> + <Timestamp> (e.g. `electra-L-htype_balanced20e2021-05-16_07.13.44`)\n",
        "original_modelname = '' #@param {type:\"string\"}"
      ],
      "execution_count": 9,
      "outputs": []
    },
    {
      "cell_type": "code",
      "metadata": {
        "colab": {
          "base_uri": "https://localhost:8080/"
        },
        "id": "-pBSRh8kNRBi",
        "outputId": "e207fb19-c025-42c0-e776-be9b68c1598a"
      },
      "source": [
        "os.environ['TRAINING_FILE']=train_file.value\n",
        "os.environ['VALID_FILE']=validation_file.value\n",
        "os.environ['TEST_FILE']=test_file.value\n",
        "os.environ['WANDB_PROJECT']=WandB_Project \n",
        "os.environ['WANDB_WANDB_TAGS']=train_file.value # can add comma separated additions, here\n",
        "os.environ['WANDB_JOB_TYPE']=(\"Testrun\" if do_quick_test else \"Fullrun\")\n",
        "os.environ['WANDB_LOG_MODEL'] = 'true'  # saving the model to wandb\n",
        "os.environ['WANDB_RUN_ID'] = own_modelid  # set own id to allow reuse in next cell\n",
        "\n",
        "os.environ['GLUE_TASK_NAME']=GLUE_Task\n",
        "os.environ['TRAIN_EPOCHS']=str(NrEpochs)\n",
        "os.environ['MODEL']=Model\n",
        "os.environ['LR']=str(Initial_Learn_Rate)\n",
        "os.environ['LS']=str(Logging_Steps)\n",
        "os.environ['RUNNAME']=Comment\n",
        "os.environ['REPORT_TO']=\"wandb\"\n",
        "os.environ['OUTPUT_DIR']=\"/content/gdrive/MyDrive/ColabNotebooks/SavedModels/\"+Model\n",
        "os.environ['WANDB_WATCH']=\"all\"\n",
        "os.environ['WANDB_RESUME']=\"auto\"\n",
        "os.environ['SAVE_STEPS']=\"5000\" # big step to avoid filling disk quota\n",
        "os.environ['SAVE_LIMIT']=\"1\"    # only one backup (let's live dangeraously but save space)\n",
        "os.environ['BATCH_SIZE']=\"128\"    \n",
        "os.environ['SEQ_LENGTH']=\"256\"    \n",
        "\n",
        "if do_restart:\n",
        "  # to restart from checkpoint use following type of model path\n",
        "  # os.environ['MODEL']=\"/content/gdrive/MyDrive/ColabNotebooks/SavedModels/\"+Model+\"/checkpoint-12000/\"\n",
        "  # https://wandb.ai/jb-diplom/janice-final/runs/electra-L-htype_balanced20e2021-05-16_07.13.44\n",
        "  own_modelid=original_modelname\n",
        "  # run_id=\"jb-diplom/\"+ WandB_Project + \"/\" + own_modelid\n",
        "  # run=wandb.init(project=WandB_Project, entity='jb-diplom', id=wandb.Api().run(run_id).id, resume='allow')\n",
        "  os.environ['MODEL']=\"/content/gdrive/MyDrive/ColabNotebooks/SavedModels/\"+Model+\"/\" + specify_checkpoint + \"/\"\n",
        "\n",
        "if (Do_Visualization):\n",
        "  os.environ['REPORT_TO']=\"wandb\"\n",
        "\n",
        "# %env\n",
        "#  --task_name $GLUE_TASK_NAME \\\n",
        "#  --jb_task_name \"t5\" \\\n",
        "# --adafactor --lr_scheduler_type cosine \\\n",
        "\n",
        "if do_quick_test:\n",
        "  os.environ['TRAIN_SAMPLES']=(str(max_train_samples) if do_quick_test else \"\")\n",
        "  os.environ['VAL_SAMPLES']=  (str(max_val_samples)   if do_quick_test else \"\")\n",
        "  os.environ['TEST_SAMPLES']= (str(max_test_samples)  if do_quick_test else \"\")\n",
        "  \n",
        "  !python '/content/gdrive/MyDrive/ColabNotebooks/Visualization/run_glue3.py' \\\n",
        "    --model_name_or_path $MODEL \\\n",
        "    --max_val_samples $VAL_SAMPLES \\\n",
        "    --max_test_samples $TEST_SAMPLES \\\n",
        "    --max_train_samples $TRAIN_SAMPLES \\\n",
        "    --tokenizer_name $MODEL \\\n",
        "    --do_train \\\n",
        "    --do_eval \\\n",
        "    --do_predict \\\n",
        "    --max_seq_length $SEQ_LENGTH \\\n",
        "    --per_device_train_batch_size $BATCH_SIZE \\\n",
        "    --per_device_eval_batch_size=64 \\\n",
        "    --learning_rate $LR \\\n",
        "    --num_train_epochs $TRAIN_EPOCHS \\\n",
        "    --output_dir $OUTPUT_DIR \\\n",
        "    --overwrite_output_dir \\\n",
        "    --logging_steps $LS \\\n",
        "    --pad_to_max_length \\\n",
        "    --run_name $RUNNAME \\\n",
        "    --report_to $REPORT_TO \\\n",
        "    --train_file $TRAINING_FILE \\\n",
        "    --validation_file $VALID_FILE \\\n",
        "    --test_file $TEST_FILE \\\n",
        "    --save_steps $SAVE_STEPS \\\n",
        "    --save_total_limit $SAVE_LIMIT \\\n",
        "    --warmup_ratio 0.1 \\\n",
        "    --skip_memory_metrics\n",
        "else:\n",
        "  !python '/content/gdrive/MyDrive/ColabNotebooks/Visualization/run_glue3.py' \\\n",
        "    --model_name_or_path $MODEL \\\n",
        "    --tokenizer_name $MODEL \\\n",
        "    --do_train \\\n",
        "    --do_eval \\\n",
        "    --do_predict \\\n",
        "    --max_seq_length $SEQ_LENGTH \\\n",
        "    --per_device_train_batch_size $BATCH_SIZE \\\n",
        "    --per_device_eval_batch_size=64 \\\n",
        "    --learning_rate $LR \\\n",
        "    --num_train_epochs $TRAIN_EPOCHS \\\n",
        "    --output_dir $OUTPUT_DIR \\\n",
        "    --overwrite_output_dir \\\n",
        "    --logging_steps $LS \\\n",
        "    --pad_to_max_length \\\n",
        "    --run_name $RUNNAME \\\n",
        "    --report_to $REPORT_TO \\\n",
        "    --train_file $TRAINING_FILE \\\n",
        "    --validation_file $VALID_FILE \\\n",
        "    --test_file $TEST_FILE \\\n",
        "    --save_steps $SAVE_STEPS \\\n",
        "    --save_total_limit $SAVE_LIMIT \\\n",
        "    --fp16 \\\n",
        "    --warmup_ratio 0.1 \\\n",
        "    --skip_memory_metrics"
      ],
      "execution_count": 42,
      "outputs": [
        {
          "output_type": "stream",
          "text": [
            "2021-05-27 21:43:00.899949: I tensorflow/stream_executor/platform/default/dso_loader.cc:53] Successfully opened dynamic library libcudart.so.11.0\n",
            "05/27/2021 21:43:02 - WARNING - __main__ -   Process rank: -1, device: cuda:0, n_gpu: 1distributed training: False, 16-bits training: True\n",
            "05/27/2021 21:43:02 - INFO - __main__ -   Training/evaluation parameters TrainingArguments(output_dir=/content/gdrive/MyDrive/ColabNotebooks/SavedModels/nghuyong/ernie-tiny, overwrite_output_dir=True, do_train=True, do_eval=True, do_predict=True, evaluation_strategy=IntervalStrategy.NO, prediction_loss_only=False, per_device_train_batch_size=128, per_device_eval_batch_size=64, gradient_accumulation_steps=1, eval_accumulation_steps=None, learning_rate=2e-05, weight_decay=0.0, adam_beta1=0.9, adam_beta2=0.999, adam_epsilon=1e-08, max_grad_norm=1.0, num_train_epochs=5.0, max_steps=-1, lr_scheduler_type=SchedulerType.LINEAR, warmup_ratio=0.1, warmup_steps=0, logging_dir=runs/May27_21-43-02_3c89244b6238, logging_strategy=IntervalStrategy.STEPS, logging_first_step=False, logging_steps=20, save_strategy=IntervalStrategy.STEPS, save_steps=5000, save_total_limit=1, no_cuda=False, seed=42, fp16=True, fp16_opt_level=O1, fp16_backend=auto, fp16_full_eval=False, local_rank=-1, tpu_num_cores=None, tpu_metrics_debug=False, debug=[], dataloader_drop_last=False, eval_steps=20, dataloader_num_workers=0, past_index=-1, run_name=ernie-tiny-htype_5e, disable_tqdm=False, remove_unused_columns=True, label_names=None, load_best_model_at_end=False, metric_for_best_model=None, greater_is_better=None, ignore_data_skip=False, sharded_ddp=[], deepspeed=None, label_smoothing_factor=0.0, adafactor=False, group_by_length=False, length_column_name=length, report_to=['wandb'], ddp_find_unused_parameters=None, dataloader_pin_memory=True, skip_memory_metrics=True, use_legacy_prediction_loop=False, push_to_hub=False, resume_from_checkpoint=None, _n_gpu=1, mp_parameters=)\n",
            "05/27/2021 21:43:02 - INFO - __main__ -   load a local file for train: /content/gdrive/MyDrive/ColabNotebooks/Visualization/complete/train_htype_balanced_0to8.tsv\n",
            "05/27/2021 21:43:02 - INFO - __main__ -   load a local file for validation: /content/gdrive/MyDrive/ColabNotebooks/Visualization/complete/dev_htype_balanced_0to8.tsv\n",
            "05/27/2021 21:43:02 - INFO - __main__ -   load a local file for test: /content/gdrive/MyDrive/ColabNotebooks/Visualization/complete/test_htype_balanced_0to8.tsv\n",
            "05/27/2021 21:43:02 - INFO - __main__ -   loading dataset TSV-format\n",
            "05/27/2021 21:43:02 - WARNING - datasets.builder -   Using custom data configuration default-f249bb01e4634bb6\n",
            "05/27/2021 21:43:02 - WARNING - datasets.builder -   Reusing dataset csv (/root/.cache/huggingface/datasets/csv/default-f249bb01e4634bb6/0.0.0/2dc6629a9ff6b5697d82c25b73731dd440507a69cbce8b425db50b751e8fcfd0)\n",
            "[INFO|configuration_utils.py:517] 2021-05-27 21:43:03,324 >> loading configuration file https://huggingface.co/nghuyong/ernie-tiny/resolve/main/config.json from cache at /root/.cache/huggingface/transformers/00d3400bbd6bc182298d29d6766a9fdfeb0a286f90f91a2051e4536ccfcdf8dd.efef47ec931c13aa3e39bde433a71227ee6505a458974de0101513833463308e\n",
            "[INFO|configuration_utils.py:553] 2021-05-27 21:43:03,325 >> Model config BertConfig {\n",
            "  \"attention_probs_dropout_prob\": 0.1,\n",
            "  \"directionality\": \"bidi\",\n",
            "  \"gradient_checkpointing\": false,\n",
            "  \"hidden_act\": \"relu\",\n",
            "  \"hidden_dropout_prob\": 0.1,\n",
            "  \"hidden_size\": 1024,\n",
            "  \"id2label\": {\n",
            "    \"0\": \"LABEL_0\",\n",
            "    \"1\": \"LABEL_1\",\n",
            "    \"2\": \"LABEL_2\",\n",
            "    \"3\": \"LABEL_3\",\n",
            "    \"4\": \"LABEL_4\",\n",
            "    \"5\": \"LABEL_5\",\n",
            "    \"6\": \"LABEL_6\",\n",
            "    \"7\": \"LABEL_7\",\n",
            "    \"8\": \"LABEL_8\"\n",
            "  },\n",
            "  \"initializer_range\": 0.02,\n",
            "  \"intermediate_size\": 4096,\n",
            "  \"label2id\": {\n",
            "    \"LABEL_0\": 0,\n",
            "    \"LABEL_1\": 1,\n",
            "    \"LABEL_2\": 2,\n",
            "    \"LABEL_3\": 3,\n",
            "    \"LABEL_4\": 4,\n",
            "    \"LABEL_5\": 5,\n",
            "    \"LABEL_6\": 6,\n",
            "    \"LABEL_7\": 7,\n",
            "    \"LABEL_8\": 8\n",
            "  },\n",
            "  \"layer_norm_eps\": 1e-05,\n",
            "  \"max_position_embeddings\": 600,\n",
            "  \"model_type\": \"bert\",\n",
            "  \"num_attention_heads\": 16,\n",
            "  \"num_hidden_layers\": 3,\n",
            "  \"pad_token_id\": 0,\n",
            "  \"position_embedding_type\": \"absolute\",\n",
            "  \"transformers_version\": \"4.6.1\",\n",
            "  \"type_vocab_size\": 2,\n",
            "  \"use_cache\": true,\n",
            "  \"vocab_size\": 50006\n",
            "}\n",
            "\n",
            "[INFO|configuration_utils.py:517] 2021-05-27 21:43:03,610 >> loading configuration file https://huggingface.co/nghuyong/ernie-tiny/resolve/main/config.json from cache at /root/.cache/huggingface/transformers/00d3400bbd6bc182298d29d6766a9fdfeb0a286f90f91a2051e4536ccfcdf8dd.efef47ec931c13aa3e39bde433a71227ee6505a458974de0101513833463308e\n",
            "[INFO|configuration_utils.py:553] 2021-05-27 21:43:03,611 >> Model config BertConfig {\n",
            "  \"attention_probs_dropout_prob\": 0.1,\n",
            "  \"directionality\": \"bidi\",\n",
            "  \"gradient_checkpointing\": false,\n",
            "  \"hidden_act\": \"relu\",\n",
            "  \"hidden_dropout_prob\": 0.1,\n",
            "  \"hidden_size\": 1024,\n",
            "  \"initializer_range\": 0.02,\n",
            "  \"intermediate_size\": 4096,\n",
            "  \"layer_norm_eps\": 1e-05,\n",
            "  \"max_position_embeddings\": 600,\n",
            "  \"model_type\": \"bert\",\n",
            "  \"num_attention_heads\": 16,\n",
            "  \"num_hidden_layers\": 3,\n",
            "  \"pad_token_id\": 0,\n",
            "  \"position_embedding_type\": \"absolute\",\n",
            "  \"transformers_version\": \"4.6.1\",\n",
            "  \"type_vocab_size\": 2,\n",
            "  \"use_cache\": true,\n",
            "  \"vocab_size\": 50006\n",
            "}\n",
            "\n",
            "[INFO|tokenization_utils_base.py:1717] 2021-05-27 21:43:05,040 >> loading file https://huggingface.co/nghuyong/ernie-tiny/resolve/main/vocab.txt from cache at /root/.cache/huggingface/transformers/b1a06b8de5a29768cc4e69d15c7fd50f7fa9a17fe3e1da691d4ae57c702f85bc.d68f209d9f7c934c2210b2a0d5164a0a29082d852b081ed6a74052ca670c54de\n",
            "[INFO|tokenization_utils_base.py:1717] 2021-05-27 21:43:05,040 >> loading file https://huggingface.co/nghuyong/ernie-tiny/resolve/main/tokenizer.json from cache at None\n",
            "[INFO|tokenization_utils_base.py:1717] 2021-05-27 21:43:05,040 >> loading file https://huggingface.co/nghuyong/ernie-tiny/resolve/main/added_tokens.json from cache at None\n",
            "[INFO|tokenization_utils_base.py:1717] 2021-05-27 21:43:05,040 >> loading file https://huggingface.co/nghuyong/ernie-tiny/resolve/main/special_tokens_map.json from cache at /root/.cache/huggingface/transformers/d7eaa9bafce44555b7f2bc36164a9bddc8e568f712d789b7c61e2588b8fb8393.dd8bd9bfd3664b530ea4e645105f557769387b3da9f79bdb55ed556bdd80611d\n",
            "[INFO|tokenization_utils_base.py:1717] 2021-05-27 21:43:05,041 >> loading file https://huggingface.co/nghuyong/ernie-tiny/resolve/main/tokenizer_config.json from cache at /root/.cache/huggingface/transformers/72c4cad055a5cd857bdbad372206c4dc8f266a6e531b8690a6889823f45430de.1788df22ba1a6817edb607a56efa931ee13ebad3b3500e58029a8f4e6d799a29\n",
            "05/27/2021 21:43:05 - INFO - __main__ -   KEV: model revision main\n",
            "05/27/2021 21:43:05 - INFO - __main__ -   KEV: T5 model revision main\n",
            "[INFO|modeling_utils.py:1155] 2021-05-27 21:43:05,409 >> loading weights file https://huggingface.co/nghuyong/ernie-tiny/resolve/main/pytorch_model.bin from cache at /root/.cache/huggingface/transformers/bdd969d2c388907ff69869ba57f0ef6d9c8b92e36785810c984d97580c4867e7.b850e90b2cc32f2e1dbb1a445a3b0f52e4b4eede3031696b354b1d3ef2610471\n",
            "[WARNING|modeling_utils.py:1331] 2021-05-27 21:43:06,442 >> Some weights of the model checkpoint at nghuyong/ernie-tiny were not used when initializing BertForSequenceClassification: ['cls.predictions.transform.LayerNorm.bias', 'cls.predictions.transform.LayerNorm.weight', 'cls.predictions.bias', 'cls.predictions.decoder.weight', 'cls.predictions.transform.dense.bias', 'cls.predictions.decoder.bias', 'cls.predictions.transform.dense.weight']\n",
            "- This IS expected if you are initializing BertForSequenceClassification from the checkpoint of a model trained on another task or with another architecture (e.g. initializing a BertForSequenceClassification model from a BertForPreTraining model).\n",
            "- This IS NOT expected if you are initializing BertForSequenceClassification from the checkpoint of a model that you expect to be exactly identical (initializing a BertForSequenceClassification model from a BertForSequenceClassification model).\n",
            "[WARNING|modeling_utils.py:1342] 2021-05-27 21:43:06,442 >> Some weights of BertForSequenceClassification were not initialized from the model checkpoint at nghuyong/ernie-tiny and are newly initialized: ['classifier.weight', 'classifier.bias']\n",
            "You should probably TRAIN this model on a down-stream task to be able to use it for predictions and inference.\n",
            "100% 26/26 [00:03<00:00,  8.00ba/s]\n",
            "100% 4/4 [00:00<00:00,  7.75ba/s]\n",
            "100% 4/4 [00:00<00:00, 10.01ba/s]\n",
            "05/27/2021 21:43:10 - INFO - __main__ -   Sample 20952 of the training set: {'attention_mask': [1, 1, 1, 1, 1, 1, 1, 1, 1, 0, 0, 0, 0, 0, 0, 0, 0, 0, 0, 0, 0, 0, 0, 0, 0, 0, 0, 0, 0, 0, 0, 0, 0, 0, 0, 0, 0, 0, 0, 0, 0, 0, 0, 0, 0, 0, 0, 0, 0, 0, 0, 0, 0, 0, 0, 0, 0, 0, 0, 0, 0, 0, 0, 0, 0, 0, 0, 0, 0, 0, 0, 0, 0, 0, 0, 0, 0, 0, 0, 0, 0, 0, 0, 0, 0, 0, 0, 0, 0, 0, 0, 0, 0, 0, 0, 0, 0, 0, 0, 0, 0, 0, 0, 0, 0, 0, 0, 0, 0, 0, 0, 0, 0, 0, 0, 0, 0, 0, 0, 0, 0, 0, 0, 0, 0, 0, 0, 0, 0, 0, 0, 0, 0, 0, 0, 0, 0, 0, 0, 0, 0, 0, 0, 0, 0, 0, 0, 0, 0, 0, 0, 0, 0, 0, 0, 0, 0, 0, 0, 0, 0, 0, 0, 0, 0, 0, 0, 0, 0, 0, 0, 0, 0, 0, 0, 0, 0, 0, 0, 0, 0, 0, 0, 0, 0, 0, 0, 0, 0, 0, 0, 0, 0, 0, 0, 0, 0, 0, 0, 0, 0, 0, 0, 0, 0, 0, 0, 0, 0, 0, 0, 0, 0, 0, 0, 0, 0, 0, 0, 0, 0, 0, 0, 0, 0, 0, 0, 0, 0, 0, 0, 0, 0, 0, 0, 0, 0, 0, 0, 0, 0, 0, 0, 0, 0, 0, 0, 0, 0, 0, 0, 0, 0, 0, 0, 0], 'input_ids': [3, 1, 1, 1, 34587, 1, 49920, 1, 5, 0, 0, 0, 0, 0, 0, 0, 0, 0, 0, 0, 0, 0, 0, 0, 0, 0, 0, 0, 0, 0, 0, 0, 0, 0, 0, 0, 0, 0, 0, 0, 0, 0, 0, 0, 0, 0, 0, 0, 0, 0, 0, 0, 0, 0, 0, 0, 0, 0, 0, 0, 0, 0, 0, 0, 0, 0, 0, 0, 0, 0, 0, 0, 0, 0, 0, 0, 0, 0, 0, 0, 0, 0, 0, 0, 0, 0, 0, 0, 0, 0, 0, 0, 0, 0, 0, 0, 0, 0, 0, 0, 0, 0, 0, 0, 0, 0, 0, 0, 0, 0, 0, 0, 0, 0, 0, 0, 0, 0, 0, 0, 0, 0, 0, 0, 0, 0, 0, 0, 0, 0, 0, 0, 0, 0, 0, 0, 0, 0, 0, 0, 0, 0, 0, 0, 0, 0, 0, 0, 0, 0, 0, 0, 0, 0, 0, 0, 0, 0, 0, 0, 0, 0, 0, 0, 0, 0, 0, 0, 0, 0, 0, 0, 0, 0, 0, 0, 0, 0, 0, 0, 0, 0, 0, 0, 0, 0, 0, 0, 0, 0, 0, 0, 0, 0, 0, 0, 0, 0, 0, 0, 0, 0, 0, 0, 0, 0, 0, 0, 0, 0, 0, 0, 0, 0, 0, 0, 0, 0, 0, 0, 0, 0, 0, 0, 0, 0, 0, 0, 0, 0, 0, 0, 0, 0, 0, 0, 0, 0, 0, 0, 0, 0, 0, 0, 0, 0, 0, 0, 0, 0, 0, 0, 0, 0, 0, 0], 'label': 3, 'sentence': 'High Elf Society #NerdBroadway @midnight', 'token_type_ids': [0, 0, 0, 0, 0, 0, 0, 0, 0, 0, 0, 0, 0, 0, 0, 0, 0, 0, 0, 0, 0, 0, 0, 0, 0, 0, 0, 0, 0, 0, 0, 0, 0, 0, 0, 0, 0, 0, 0, 0, 0, 0, 0, 0, 0, 0, 0, 0, 0, 0, 0, 0, 0, 0, 0, 0, 0, 0, 0, 0, 0, 0, 0, 0, 0, 0, 0, 0, 0, 0, 0, 0, 0, 0, 0, 0, 0, 0, 0, 0, 0, 0, 0, 0, 0, 0, 0, 0, 0, 0, 0, 0, 0, 0, 0, 0, 0, 0, 0, 0, 0, 0, 0, 0, 0, 0, 0, 0, 0, 0, 0, 0, 0, 0, 0, 0, 0, 0, 0, 0, 0, 0, 0, 0, 0, 0, 0, 0, 0, 0, 0, 0, 0, 0, 0, 0, 0, 0, 0, 0, 0, 0, 0, 0, 0, 0, 0, 0, 0, 0, 0, 0, 0, 0, 0, 0, 0, 0, 0, 0, 0, 0, 0, 0, 0, 0, 0, 0, 0, 0, 0, 0, 0, 0, 0, 0, 0, 0, 0, 0, 0, 0, 0, 0, 0, 0, 0, 0, 0, 0, 0, 0, 0, 0, 0, 0, 0, 0, 0, 0, 0, 0, 0, 0, 0, 0, 0, 0, 0, 0, 0, 0, 0, 0, 0, 0, 0, 0, 0, 0, 0, 0, 0, 0, 0, 0, 0, 0, 0, 0, 0, 0, 0, 0, 0, 0, 0, 0, 0, 0, 0, 0, 0, 0, 0, 0, 0, 0, 0, 0, 0, 0, 0, 0, 0, 0]}.\n",
            "05/27/2021 21:43:10 - INFO - __main__ -   Sample 3648 of the training set: {'attention_mask': [1, 1, 1, 1, 1, 1, 1, 1, 1, 1, 1, 1, 1, 1, 1, 1, 1, 1, 1, 1, 1, 1, 1, 1, 1, 1, 1, 1, 1, 1, 0, 0, 0, 0, 0, 0, 0, 0, 0, 0, 0, 0, 0, 0, 0, 0, 0, 0, 0, 0, 0, 0, 0, 0, 0, 0, 0, 0, 0, 0, 0, 0, 0, 0, 0, 0, 0, 0, 0, 0, 0, 0, 0, 0, 0, 0, 0, 0, 0, 0, 0, 0, 0, 0, 0, 0, 0, 0, 0, 0, 0, 0, 0, 0, 0, 0, 0, 0, 0, 0, 0, 0, 0, 0, 0, 0, 0, 0, 0, 0, 0, 0, 0, 0, 0, 0, 0, 0, 0, 0, 0, 0, 0, 0, 0, 0, 0, 0, 0, 0, 0, 0, 0, 0, 0, 0, 0, 0, 0, 0, 0, 0, 0, 0, 0, 0, 0, 0, 0, 0, 0, 0, 0, 0, 0, 0, 0, 0, 0, 0, 0, 0, 0, 0, 0, 0, 0, 0, 0, 0, 0, 0, 0, 0, 0, 0, 0, 0, 0, 0, 0, 0, 0, 0, 0, 0, 0, 0, 0, 0, 0, 0, 0, 0, 0, 0, 0, 0, 0, 0, 0, 0, 0, 0, 0, 0, 0, 0, 0, 0, 0, 0, 0, 0, 0, 0, 0, 0, 0, 0, 0, 0, 0, 0, 0, 0, 0, 0, 0, 0, 0, 0, 0, 0, 0, 0, 0, 0, 0, 0, 0, 0, 0, 0, 0, 0, 0, 0, 0, 0, 0, 0, 0, 0, 0, 0], 'input_ids': [3, 1, 1, 1, 4298, 877, 30226, 50002, 1, 3879, 877, 1, 13260, 1, 28207, 11980, 1, 41818, 50002, 1, 13260, 1, 18725, 1, 1, 11285, 1, 1, 1, 5, 0, 0, 0, 0, 0, 0, 0, 0, 0, 0, 0, 0, 0, 0, 0, 0, 0, 0, 0, 0, 0, 0, 0, 0, 0, 0, 0, 0, 0, 0, 0, 0, 0, 0, 0, 0, 0, 0, 0, 0, 0, 0, 0, 0, 0, 0, 0, 0, 0, 0, 0, 0, 0, 0, 0, 0, 0, 0, 0, 0, 0, 0, 0, 0, 0, 0, 0, 0, 0, 0, 0, 0, 0, 0, 0, 0, 0, 0, 0, 0, 0, 0, 0, 0, 0, 0, 0, 0, 0, 0, 0, 0, 0, 0, 0, 0, 0, 0, 0, 0, 0, 0, 0, 0, 0, 0, 0, 0, 0, 0, 0, 0, 0, 0, 0, 0, 0, 0, 0, 0, 0, 0, 0, 0, 0, 0, 0, 0, 0, 0, 0, 0, 0, 0, 0, 0, 0, 0, 0, 0, 0, 0, 0, 0, 0, 0, 0, 0, 0, 0, 0, 0, 0, 0, 0, 0, 0, 0, 0, 0, 0, 0, 0, 0, 0, 0, 0, 0, 0, 0, 0, 0, 0, 0, 0, 0, 0, 0, 0, 0, 0, 0, 0, 0, 0, 0, 0, 0, 0, 0, 0, 0, 0, 0, 0, 0, 0, 0, 0, 0, 0, 0, 0, 0, 0, 0, 0, 0, 0, 0, 0, 0, 0, 0, 0, 0, 0, 0, 0, 0, 0, 0, 0, 0, 0, 0], 'label': 8, 'sentence': 'peppa pig lives in a house, eats on a plate and talks. by this logic, humans and animals are role reversed so peppa eats humans ', 'token_type_ids': [0, 0, 0, 0, 0, 0, 0, 0, 0, 0, 0, 0, 0, 0, 0, 0, 0, 0, 0, 0, 0, 0, 0, 0, 0, 0, 0, 0, 0, 0, 0, 0, 0, 0, 0, 0, 0, 0, 0, 0, 0, 0, 0, 0, 0, 0, 0, 0, 0, 0, 0, 0, 0, 0, 0, 0, 0, 0, 0, 0, 0, 0, 0, 0, 0, 0, 0, 0, 0, 0, 0, 0, 0, 0, 0, 0, 0, 0, 0, 0, 0, 0, 0, 0, 0, 0, 0, 0, 0, 0, 0, 0, 0, 0, 0, 0, 0, 0, 0, 0, 0, 0, 0, 0, 0, 0, 0, 0, 0, 0, 0, 0, 0, 0, 0, 0, 0, 0, 0, 0, 0, 0, 0, 0, 0, 0, 0, 0, 0, 0, 0, 0, 0, 0, 0, 0, 0, 0, 0, 0, 0, 0, 0, 0, 0, 0, 0, 0, 0, 0, 0, 0, 0, 0, 0, 0, 0, 0, 0, 0, 0, 0, 0, 0, 0, 0, 0, 0, 0, 0, 0, 0, 0, 0, 0, 0, 0, 0, 0, 0, 0, 0, 0, 0, 0, 0, 0, 0, 0, 0, 0, 0, 0, 0, 0, 0, 0, 0, 0, 0, 0, 0, 0, 0, 0, 0, 0, 0, 0, 0, 0, 0, 0, 0, 0, 0, 0, 0, 0, 0, 0, 0, 0, 0, 0, 0, 0, 0, 0, 0, 0, 0, 0, 0, 0, 0, 0, 0, 0, 0, 0, 0, 0, 0, 0, 0, 0, 0, 0, 0, 0, 0, 0, 0, 0, 0]}.\n",
            "05/27/2021 21:43:10 - INFO - __main__ -   Sample 819 of the training set: {'attention_mask': [1, 1, 1, 1, 1, 1, 1, 1, 1, 1, 1, 1, 1, 1, 1, 1, 1, 1, 1, 1, 1, 1, 1, 1, 1, 1, 1, 1, 1, 1, 1, 1, 1, 1, 1, 1, 1, 1, 1, 1, 1, 1, 1, 1, 1, 1, 1, 1, 1, 1, 1, 1, 1, 1, 1, 1, 1, 1, 1, 0, 0, 0, 0, 0, 0, 0, 0, 0, 0, 0, 0, 0, 0, 0, 0, 0, 0, 0, 0, 0, 0, 0, 0, 0, 0, 0, 0, 0, 0, 0, 0, 0, 0, 0, 0, 0, 0, 0, 0, 0, 0, 0, 0, 0, 0, 0, 0, 0, 0, 0, 0, 0, 0, 0, 0, 0, 0, 0, 0, 0, 0, 0, 0, 0, 0, 0, 0, 0, 0, 0, 0, 0, 0, 0, 0, 0, 0, 0, 0, 0, 0, 0, 0, 0, 0, 0, 0, 0, 0, 0, 0, 0, 0, 0, 0, 0, 0, 0, 0, 0, 0, 0, 0, 0, 0, 0, 0, 0, 0, 0, 0, 0, 0, 0, 0, 0, 0, 0, 0, 0, 0, 0, 0, 0, 0, 0, 0, 0, 0, 0, 0, 0, 0, 0, 0, 0, 0, 0, 0, 0, 0, 0, 0, 0, 0, 0, 0, 0, 0, 0, 0, 0, 0, 0, 0, 0, 0, 0, 0, 0, 0, 0, 0, 0, 0, 0, 0, 0, 0, 0, 0, 0, 0, 0, 0, 0, 0, 0, 0, 0, 0, 0, 0, 0, 0, 0, 0, 0, 0, 0, 0, 0, 0, 0, 0, 0], 'input_ids': [3, 1, 1, 1, 28207, 1, 1, 3582, 1, 1, 33129, 1, 1, 11980, 1, 49997, 1, 1, 50002, 877, 1, 1, 1, 22873, 18950, 1, 1, 50002, 1, 1, 12906, 28207, 1, 1, 50002, 1, 1, 1, 13260, 1, 1, 14799, 1, 1, 1, 3879, 18950, 1, 28207, 1, 49995, 49164, 49164, 1261, 28207, 5412, 49164, 1, 5, 0, 0, 0, 0, 0, 0, 0, 0, 0, 0, 0, 0, 0, 0, 0, 0, 0, 0, 0, 0, 0, 0, 0, 0, 0, 0, 0, 0, 0, 0, 0, 0, 0, 0, 0, 0, 0, 0, 0, 0, 0, 0, 0, 0, 0, 0, 0, 0, 0, 0, 0, 0, 0, 0, 0, 0, 0, 0, 0, 0, 0, 0, 0, 0, 0, 0, 0, 0, 0, 0, 0, 0, 0, 0, 0, 0, 0, 0, 0, 0, 0, 0, 0, 0, 0, 0, 0, 0, 0, 0, 0, 0, 0, 0, 0, 0, 0, 0, 0, 0, 0, 0, 0, 0, 0, 0, 0, 0, 0, 0, 0, 0, 0, 0, 0, 0, 0, 0, 0, 0, 0, 0, 0, 0, 0, 0, 0, 0, 0, 0, 0, 0, 0, 0, 0, 0, 0, 0, 0, 0, 0, 0, 0, 0, 0, 0, 0, 0, 0, 0, 0, 0, 0, 0, 0, 0, 0, 0, 0, 0, 0, 0, 0, 0, 0, 0, 0, 0, 0, 0, 0, 0, 0, 0, 0, 0, 0, 0, 0, 0, 0, 0, 0, 0, 0, 0, 0, 0, 0, 0, 0, 0, 0, 0, 0, 0, 0], 'label': 0, 'sentence': 'New York Gov. Andrew Cuomo is being considered for attorney general by President-elect Biden, a source with knowledge of the search says, with Alabama Sen. Doug Jones, Judge Merrick Garland and former Deputy AG Sally Yates also on the list. https://t.co/HQ6EuwJwjy', 'token_type_ids': [0, 0, 0, 0, 0, 0, 0, 0, 0, 0, 0, 0, 0, 0, 0, 0, 0, 0, 0, 0, 0, 0, 0, 0, 0, 0, 0, 0, 0, 0, 0, 0, 0, 0, 0, 0, 0, 0, 0, 0, 0, 0, 0, 0, 0, 0, 0, 0, 0, 0, 0, 0, 0, 0, 0, 0, 0, 0, 0, 0, 0, 0, 0, 0, 0, 0, 0, 0, 0, 0, 0, 0, 0, 0, 0, 0, 0, 0, 0, 0, 0, 0, 0, 0, 0, 0, 0, 0, 0, 0, 0, 0, 0, 0, 0, 0, 0, 0, 0, 0, 0, 0, 0, 0, 0, 0, 0, 0, 0, 0, 0, 0, 0, 0, 0, 0, 0, 0, 0, 0, 0, 0, 0, 0, 0, 0, 0, 0, 0, 0, 0, 0, 0, 0, 0, 0, 0, 0, 0, 0, 0, 0, 0, 0, 0, 0, 0, 0, 0, 0, 0, 0, 0, 0, 0, 0, 0, 0, 0, 0, 0, 0, 0, 0, 0, 0, 0, 0, 0, 0, 0, 0, 0, 0, 0, 0, 0, 0, 0, 0, 0, 0, 0, 0, 0, 0, 0, 0, 0, 0, 0, 0, 0, 0, 0, 0, 0, 0, 0, 0, 0, 0, 0, 0, 0, 0, 0, 0, 0, 0, 0, 0, 0, 0, 0, 0, 0, 0, 0, 0, 0, 0, 0, 0, 0, 0, 0, 0, 0, 0, 0, 0, 0, 0, 0, 0, 0, 0, 0, 0, 0, 0, 0, 0, 0, 0, 0, 0, 0, 0, 0, 0, 0, 0, 0, 0]}.\n",
            "[INFO|trainer.py:415] 2021-05-27 21:43:13,462 >> Using amp fp16 backend\n",
            "[INFO|trainer.py:516] 2021-05-27 21:43:13,462 >> The following columns in the training set  don't have a corresponding argument in `BertForSequenceClassification.forward` and have been ignored: sentence.\n",
            "[INFO|trainer.py:1156] 2021-05-27 21:43:13,466 >> ***** Running training *****\n",
            "[INFO|trainer.py:1157] 2021-05-27 21:43:13,466 >>   Num examples = 25530\n",
            "[INFO|trainer.py:1158] 2021-05-27 21:43:13,467 >>   Num Epochs = 5\n",
            "[INFO|trainer.py:1159] 2021-05-27 21:43:13,467 >>   Instantaneous batch size per device = 128\n",
            "[INFO|trainer.py:1160] 2021-05-27 21:43:13,467 >>   Total train batch size (w. parallel, distributed & accumulation) = 128\n",
            "[INFO|trainer.py:1161] 2021-05-27 21:43:13,467 >>   Gradient Accumulation steps = 1\n",
            "[INFO|trainer.py:1162] 2021-05-27 21:43:13,467 >>   Total optimization steps = 1000\n",
            "[INFO|integrations.py:675] 2021-05-27 21:43:13,468 >> Automatic Weights & Biases logging enabled, to disable set os.environ[\"WANDB_DISABLED\"] = \"true\"\n",
            "\u001b[34m\u001b[1mwandb\u001b[0m: Currently logged in as: \u001b[33mjb-diplom\u001b[0m (use `wandb login --relogin` to force relogin)\n",
            "2021-05-27 21:43:14.644346: I tensorflow/stream_executor/platform/default/dso_loader.cc:53] Successfully opened dynamic library libcudart.so.11.0\n",
            "\u001b[34m\u001b[1mwandb\u001b[0m: Tracking run with wandb version 0.10.30\n",
            "\u001b[34m\u001b[1mwandb\u001b[0m: Resuming run \u001b[33mernie-tiny-htype_5e\u001b[0m\n",
            "\u001b[34m\u001b[1mwandb\u001b[0m: ⭐️ View project at \u001b[34m\u001b[4mhttps://wandb.ai/jb-diplom/janice-final\u001b[0m\n",
            "\u001b[34m\u001b[1mwandb\u001b[0m: 🚀 View run at \u001b[34m\u001b[4mhttps://wandb.ai/jb-diplom/janice-final/runs/ernie-tiny-htype_5e2021-05-27_21.41.29\u001b[0m\n",
            "\u001b[34m\u001b[1mwandb\u001b[0m: Run data is saved locally in /content/wandb/run-20210527_214313-ernie-tiny-htype_5e2021-05-27_21.41.29\n",
            "\u001b[34m\u001b[1mwandb\u001b[0m: Run `wandb offline` to turn off syncing.\n",
            "\n",
            "{'loss': 2.318, 'learning_rate': 4.000000000000001e-06, 'epoch': 0.1}\n",
            "{'loss': 1.5555, 'learning_rate': 8.000000000000001e-06, 'epoch': 0.2}\n",
            "  6%|██▍                                      | 60/1000 [01:15<19:38,  1.25s/it]{'loss': 1.0228, 'learning_rate': 1.2e-05, 'epoch': 0.3}\n",
            "{'loss': 0.8463, 'learning_rate': 1.6000000000000003e-05, 'epoch': 0.4}\n",
            " 10%|████                                    | 100/1000 [02:08<30:09,  2.01s/it]{'loss': 0.795, 'learning_rate': 2e-05, 'epoch': 0.5}\n",
            " 12%|████▊                                   | 120/1000 [02:33<18:32,  1.26s/it]{'loss': 0.756, 'learning_rate': 1.9555555555555557e-05, 'epoch': 0.6}\n",
            " 14%|█████▌                                  | 140/1000 [02:58<17:58,  1.25s/it]{'loss': 0.7848, 'learning_rate': 1.9111111111111113e-05, 'epoch': 0.7}\n",
            " 16%|██████▍                                 | 160/1000 [03:23<17:32,  1.25s/it]{'loss': 0.807, 'learning_rate': 1.866666666666667e-05, 'epoch': 0.8}\n",
            " 18%|███████▏                                | 180/1000 [03:48<17:07,  1.25s/it]{'loss': 0.8095, 'learning_rate': 1.8222222222222224e-05, 'epoch': 0.9}\n",
            " 20%|████████                                | 200/1000 [04:15<22:55,  1.72s/it]{'loss': 0.785, 'learning_rate': 1.7777777777777777e-05, 'epoch': 1.0}\n",
            " 22%|████████▊                               | 220/1000 [04:40<16:20,  1.26s/it]{'loss': 0.764, 'learning_rate': 1.7333333333333336e-05, 'epoch': 1.1}\n",
            " 24%|█████████▌                              | 240/1000 [05:05<15:53,  1.25s/it]{'loss': 0.7912, 'learning_rate': 1.688888888888889e-05, 'epoch': 1.2}\n",
            " 26%|██████████▍                             | 260/1000 [05:30<15:27,  1.25s/it]{'loss': 0.7817, 'learning_rate': 1.6444444444444444e-05, 'epoch': 1.3}\n",
            " 28%|███████████▏                            | 279/1000 [05:54<15:05,  1.26s/it]{'loss': 0.7751, 'learning_rate': 1.6000000000000003e-05, 'epoch': 1.4}\n",
            " 30%|████████████                            | 300/1000 [06:22<22:25,  1.92s/it]{'loss': 0.763, 'learning_rate': 1.555555555555556e-05, 'epoch': 1.5}\n",
            " 32%|████████████▊                           | 320/1000 [06:47<14:14,  1.26s/it]{'loss': 0.7932, 'learning_rate': 1.5111111111111112e-05, 'epoch': 1.6}\n",
            "{'loss': 0.7511, 'learning_rate': 1.4666666666666666e-05, 'epoch': 1.7}\n",
            " 36%|██████████████▍                         | 360/1000 [07:37<13:21,  1.25s/it]{'loss': 0.7814, 'learning_rate': 1.4222222222222224e-05, 'epoch': 1.8}\n",
            " 38%|███████████████▏                        | 380/1000 [08:03<12:55,  1.25s/it]{'loss': 0.7674, 'learning_rate': 1.377777777777778e-05, 'epoch': 1.9}\n",
            " 40%|████████████████                        | 400/1000 [08:29<17:16,  1.73s/it]{'loss': 0.7477, 'learning_rate': 1.3333333333333333e-05, 'epoch': 2.0}\n",
            "{'loss': 0.7631, 'learning_rate': 1.288888888888889e-05, 'epoch': 2.1}\n",
            "{'loss': 0.7882, 'learning_rate': 1.2444444444444446e-05, 'epoch': 2.2}\n",
            " 46%|██████████████████▍                     | 460/1000 [09:45<11:19,  1.26s/it]{'loss': 0.7746, 'learning_rate': 1.2e-05, 'epoch': 2.3}\n",
            "{'loss': 0.7652, 'learning_rate': 1.1555555555555556e-05, 'epoch': 2.4}\n",
            " 50%|████████████████████                    | 500/1000 [10:37<16:03,  1.93s/it]{'loss': 0.7812, 'learning_rate': 1.1111111111111113e-05, 'epoch': 2.5}\n",
            " 52%|████████████████████▊                   | 520/1000 [11:02<10:00,  1.25s/it]{'loss': 0.7466, 'learning_rate': 1.0666666666666667e-05, 'epoch': 2.6}\n",
            " 54%|█████████████████████▌                  | 540/1000 [11:27<09:40,  1.26s/it]{'loss': 0.7308, 'learning_rate': 1.0222222222222223e-05, 'epoch': 2.7}\n",
            " 56%|██████████████████████▍                 | 560/1000 [11:52<09:12,  1.26s/it]{'loss': 0.7156, 'learning_rate': 9.777777777777779e-06, 'epoch': 2.8}\n",
            "{'loss': 0.7164, 'learning_rate': 9.333333333333334e-06, 'epoch': 2.9}\n",
            "{'loss': 0.7719, 'learning_rate': 8.888888888888888e-06, 'epoch': 3.0}\n",
            " 62%|████████████████████████▊               | 620/1000 [13:09<07:57,  1.26s/it]{'loss': 0.751, 'learning_rate': 8.444444444444446e-06, 'epoch': 3.1}\n",
            " 64%|█████████████████████████▌              | 640/1000 [13:34<07:31,  1.25s/it]{'loss': 0.7371, 'learning_rate': 8.000000000000001e-06, 'epoch': 3.2}\n",
            " 66%|██████████████████████████▍             | 660/1000 [14:00<07:06,  1.25s/it]{'loss': 0.7265, 'learning_rate': 7.555555555555556e-06, 'epoch': 3.3}\n",
            " 68%|███████████████████████████▏            | 680/1000 [14:25<06:41,  1.25s/it]{'loss': 0.7687, 'learning_rate': 7.111111111111112e-06, 'epoch': 3.4}\n",
            " 70%|████████████████████████████            | 700/1000 [14:52<09:39,  1.93s/it]{'loss': 0.7959, 'learning_rate': 6.666666666666667e-06, 'epoch': 3.5}\n",
            "{'loss': 0.7484, 'learning_rate': 6.222222222222223e-06, 'epoch': 3.6}\n",
            " 74%|█████████████████████████████▌          | 740/1000 [15:42<05:25,  1.25s/it]{'loss': 0.7251, 'learning_rate': 5.777777777777778e-06, 'epoch': 3.7}\n",
            " 76%|██████████████████████████████▍         | 760/1000 [16:07<04:59,  1.25s/it]{'loss': 0.716, 'learning_rate': 5.333333333333334e-06, 'epoch': 3.8}\n",
            " 78%|███████████████████████████████▏        | 780/1000 [16:32<04:36,  1.26s/it]{'loss': 0.7435, 'learning_rate': 4.888888888888889e-06, 'epoch': 3.9}\n",
            "{'loss': 0.7219, 'learning_rate': 4.444444444444444e-06, 'epoch': 4.0}\n",
            " 82%|████████████████████████████████▊       | 820/1000 [17:24<03:45,  1.26s/it]{'loss': 0.7188, 'learning_rate': 4.000000000000001e-06, 'epoch': 4.1}\n",
            " 84%|█████████████████████████████████▌      | 840/1000 [17:49<03:21,  1.26s/it]{'loss': 0.751, 'learning_rate': 3.555555555555556e-06, 'epoch': 4.2}\n",
            " 86%|██████████████████████████████████▍     | 860/1000 [18:14<02:55,  1.26s/it]{'loss': 0.7076, 'learning_rate': 3.1111111111111116e-06, 'epoch': 4.3}\n",
            " 88%|███████████████████████████████████▏    | 880/1000 [18:39<02:30,  1.25s/it]{'loss': 0.7181, 'learning_rate': 2.666666666666667e-06, 'epoch': 4.4}\n",
            " 90%|████████████████████████████████████    | 900/1000 [19:07<03:11,  1.92s/it]{'loss': 0.769, 'learning_rate': 2.222222222222222e-06, 'epoch': 4.5}\n",
            " 92%|████████████████████████████████████▊   | 920/1000 [19:32<01:40,  1.26s/it]{'loss': 0.7417, 'learning_rate': 1.777777777777778e-06, 'epoch': 4.6}\n",
            " 94%|█████████████████████████████████████▌  | 940/1000 [19:57<01:15,  1.25s/it]{'loss': 0.7506, 'learning_rate': 1.3333333333333334e-06, 'epoch': 4.7}\n",
            "{'loss': 0.6853, 'learning_rate': 8.88888888888889e-07, 'epoch': 4.8}\n",
            "{'loss': 0.7484, 'learning_rate': 4.444444444444445e-07, 'epoch': 4.9}\n",
            "{'loss': 0.7576, 'learning_rate': 0.0, 'epoch': 5.0}\n",
            "100%|███████████████████████████████████████| 1000/1000 [21:14<00:00,  1.72s/it][INFO|trainer.py:1352] 2021-05-27 22:04:30,199 >> \n",
            "\n",
            "Training completed. Do not forget to share your model on huggingface.co/models =)\n",
            "\n",
            "\n",
            "100%|███████████████████████████████████████| 1000/1000 [21:14<00:00,  1.72s/it]{'train_runtime': 1276.7329, 'train_samples_per_second': 0.783, 'epoch': 5.0}\n",
            "[INFO|trainer.py:415] 2021-05-27 22:04:30,205 >> Using amp fp16 backend\n",
            "[INFO|trainer.py:1885] 2021-05-27 22:04:30,207 >> Saving model checkpoint to /tmp/tmpaesafbbm\n",
            "[INFO|configuration_utils.py:351] 2021-05-27 22:04:30,208 >> Configuration saved in /tmp/tmpaesafbbm/config.json\n",
            "[INFO|modeling_utils.py:889] 2021-05-27 22:04:30,981 >> Model weights saved in /tmp/tmpaesafbbm/pytorch_model.bin\n",
            "[INFO|tokenization_utils_base.py:1924] 2021-05-27 22:04:30,983 >> tokenizer config file saved in /tmp/tmpaesafbbm/tokenizer_config.json\n",
            "[INFO|tokenization_utils_base.py:1930] 2021-05-27 22:04:30,983 >> Special tokens file saved in /tmp/tmpaesafbbm/special_tokens_map.json\n",
            "100%|███████████████████████████████████████| 1000/1000 [21:21<00:00,  1.28s/it]\n",
            "[INFO|trainer.py:1885] 2021-05-27 22:04:37,094 >> Saving model checkpoint to /content/gdrive/MyDrive/ColabNotebooks/SavedModels/nghuyong/ernie-tiny\n",
            "[INFO|configuration_utils.py:351] 2021-05-27 22:04:37,371 >> Configuration saved in /content/gdrive/MyDrive/ColabNotebooks/SavedModels/nghuyong/ernie-tiny/config.json\n",
            "[INFO|modeling_utils.py:889] 2021-05-27 22:04:43,099 >> Model weights saved in /content/gdrive/MyDrive/ColabNotebooks/SavedModels/nghuyong/ernie-tiny/pytorch_model.bin\n",
            "[INFO|tokenization_utils_base.py:1924] 2021-05-27 22:04:43,415 >> tokenizer config file saved in /content/gdrive/MyDrive/ColabNotebooks/SavedModels/nghuyong/ernie-tiny/tokenizer_config.json\n",
            "[INFO|tokenization_utils_base.py:1930] 2021-05-27 22:04:43,665 >> Special tokens file saved in /content/gdrive/MyDrive/ColabNotebooks/SavedModels/nghuyong/ernie-tiny/special_tokens_map.json\n",
            "[INFO|trainer_pt_utils.py:907] 2021-05-27 22:04:44,910 >> ***** train metrics *****\n",
            "[INFO|trainer_pt_utils.py:912] 2021-05-27 22:04:44,911 >>   epoch                    =        5.0\n",
            "[INFO|trainer_pt_utils.py:912] 2021-05-27 22:04:44,911 >>   train_runtime            = 0:21:16.73\n",
            "[INFO|trainer_pt_utils.py:912] 2021-05-27 22:04:44,911 >>   train_samples            =      25530\n",
            "[INFO|trainer_pt_utils.py:912] 2021-05-27 22:04:44,911 >>   train_samples_per_second =      0.783\n",
            "05/27/2021 22:04:45 - INFO - __main__ -   *** Evaluate ***\n",
            "[INFO|trainer.py:516] 2021-05-27 22:04:45,702 >> The following columns in the evaluation set  don't have a corresponding argument in `BertForSequenceClassification.forward` and have been ignored: sentence.\n",
            "[INFO|trainer.py:2115] 2021-05-27 22:04:45,706 >> ***** Running Evaluation *****\n",
            "[INFO|trainer.py:2117] 2021-05-27 22:04:45,706 >>   Num examples = 3191\n",
            "[INFO|trainer.py:2120] 2021-05-27 22:04:45,706 >>   Batch size = 64\n",
            "100%|███████████████████████████████████████████| 50/50 [00:10<00:00,  4.56it/s]\n",
            "[INFO|trainer_pt_utils.py:907] 2021-05-27 22:04:56,907 >> ***** eval metrics *****\n",
            "[INFO|trainer_pt_utils.py:912] 2021-05-27 22:04:56,908 >>   epoch                   =        5.0\n",
            "[INFO|trainer_pt_utils.py:912] 2021-05-27 22:04:56,908 >>   eval_accuracy           =     0.7477\n",
            "[INFO|trainer_pt_utils.py:912] 2021-05-27 22:04:56,908 >>   eval_loss               =     0.7507\n",
            "[INFO|trainer_pt_utils.py:912] 2021-05-27 22:04:56,908 >>   eval_runtime            = 0:00:11.19\n",
            "[INFO|trainer_pt_utils.py:912] 2021-05-27 22:04:56,908 >>   eval_samples            =       3191\n",
            "[INFO|trainer_pt_utils.py:912] 2021-05-27 22:04:56,908 >>   eval_samples_per_second =    284.919\n",
            "05/27/2021 22:04:57 - INFO - __main__ -   *** Test ***\n",
            "[INFO|trainer.py:516] 2021-05-27 22:04:57,207 >> The following columns in the test set  don't have a corresponding argument in `BertForSequenceClassification.forward` and have been ignored: sentence.\n",
            "[INFO|trainer.py:2115] 2021-05-27 22:04:57,211 >> ***** Running Prediction *****\n",
            "[INFO|trainer.py:2117] 2021-05-27 22:04:57,211 >>   Num examples = 3192\n",
            "[INFO|trainer.py:2120] 2021-05-27 22:04:57,211 >>   Batch size = 64\n",
            "100%|███████████████████████████████████████████| 50/50 [00:12<00:00,  1.27it/s]05/27/2021 22:05:10 - INFO - __main__ -   ***** Test results None *****\n",
            "100%|███████████████████████████████████████████| 50/50 [00:13<00:00,  3.81it/s]\n",
            "\n",
            "\u001b[34m\u001b[1mwandb\u001b[0m: Waiting for W&B process to finish, PID 2869\n",
            "\u001b[34m\u001b[1mwandb\u001b[0m: Program ended successfully.\n",
            "\u001b[34m\u001b[1mwandb\u001b[0m:                                                                                \n",
            "\u001b[34m\u001b[1mwandb\u001b[0m: Find user logs for this run at: /content/wandb/run-20210527_214313-ernie-tiny-htype_5e2021-05-27_21.41.29/logs/debug.log\n",
            "\u001b[34m\u001b[1mwandb\u001b[0m: Find internal logs for this run at: /content/wandb/run-20210527_214313-ernie-tiny-htype_5e2021-05-27_21.41.29/logs/debug-internal.log\n",
            "\u001b[34m\u001b[1mwandb\u001b[0m: Run summary:\n",
            "\u001b[34m\u001b[1mwandb\u001b[0m:                                                          train/loss 0.7576\n",
            "\u001b[34m\u001b[1mwandb\u001b[0m:                                                 train/learning_rate 0.0\n",
            "\u001b[34m\u001b[1mwandb\u001b[0m:                                                         train/epoch 5.0\n",
            "\u001b[34m\u001b[1mwandb\u001b[0m:                                                   train/global_step 1000\n",
            "\u001b[34m\u001b[1mwandb\u001b[0m:                                                            _runtime 1322\n",
            "\u001b[34m\u001b[1mwandb\u001b[0m:                                                          _timestamp 1622153110\n",
            "\u001b[34m\u001b[1mwandb\u001b[0m:                                                               _step 52\n",
            "\u001b[34m\u001b[1mwandb\u001b[0m:                                                 train/train_runtime 1276.7329\n",
            "\u001b[34m\u001b[1mwandb\u001b[0m:                                      train/train_samples_per_second 0.783\n",
            "\u001b[34m\u001b[1mwandb\u001b[0m:                                                    train/total_flos 1.77781221704448e+16\n",
            "\u001b[34m\u001b[1mwandb\u001b[0m:                                                           eval/loss 0.75073\n",
            "\u001b[34m\u001b[1mwandb\u001b[0m:                                                       eval/accuracy 0.74773\n",
            "\u001b[34m\u001b[1mwandb\u001b[0m:                                                        eval/runtime 11.1997\n",
            "\u001b[34m\u001b[1mwandb\u001b[0m:                                             eval/samples_per_second 284.919\n",
            "\u001b[34m\u001b[1mwandb\u001b[0m: Run history:\n",
            "\u001b[34m\u001b[1mwandb\u001b[0m:                       train/loss █▅▂▂▁▁▂▂▁▁▁▁▁▁▁▁▁▁▁▁▁▁▁▁▁▁▁▁▁▁▁▁▁▁▁▁▁▁▁▁\n",
            "\u001b[34m\u001b[1mwandb\u001b[0m:              train/learning_rate ▂▄▅▇████▇▇▇▇▆▆▆▆▆▅▅▅▅▅▄▄▄▄▄▄▃▃▃▃▂▂▂▂▂▁▁▁\n",
            "\u001b[34m\u001b[1mwandb\u001b[0m:                      train/epoch ▁▁▁▁▂▂▂▂▂▃▃▃▃▃▄▄▄▄▄▄▅▅▅▅▅▆▆▆▆▆▇▇▇▇▇▇████\n",
            "\u001b[34m\u001b[1mwandb\u001b[0m:                train/global_step ▁▁▁▂▂▂▂▂▂▃▃▃▃▃▄▄▄▄▄▅▅▅▅▅▆▆▆▆▆▆▇▇▇▇▇█████\n",
            "\u001b[34m\u001b[1mwandb\u001b[0m:                         _runtime ▁▁▁▂▂▂▂▂▂▃▃▃▃▃▃▄▄▄▄▄▅▅▅▅▅▆▆▆▆▆▇▇▇▇▇▇████\n",
            "\u001b[34m\u001b[1mwandb\u001b[0m:                       _timestamp ▁▁▁▂▂▂▂▂▂▃▃▃▃▃▃▄▄▄▄▄▅▅▅▅▅▆▆▆▆▆▇▇▇▇▇▇████\n",
            "\u001b[34m\u001b[1mwandb\u001b[0m:                            _step ▁▁▁▂▂▂▂▂▂▃▃▃▃▃▃▄▄▄▄▄▅▅▅▅▅▅▆▆▆▆▆▇▇▇▇▇▇███\n",
            "\u001b[34m\u001b[1mwandb\u001b[0m:              train/train_runtime ▁\n",
            "\u001b[34m\u001b[1mwandb\u001b[0m:   train/train_samples_per_second ▁\n",
            "\u001b[34m\u001b[1mwandb\u001b[0m:                 train/total_flos ▁\n",
            "\u001b[34m\u001b[1mwandb\u001b[0m:                        eval/loss ▁\n",
            "\u001b[34m\u001b[1mwandb\u001b[0m:                    eval/accuracy ▁\n",
            "\u001b[34m\u001b[1mwandb\u001b[0m:                     eval/runtime ▁\n",
            "\u001b[34m\u001b[1mwandb\u001b[0m:          eval/samples_per_second ▁\n",
            "\u001b[34m\u001b[1mwandb\u001b[0m: \n",
            "\u001b[34m\u001b[1mwandb\u001b[0m: Synced 5 W&B file(s), 1 media file(s), 7 artifact file(s) and 0 other file(s)\n",
            "\u001b[34m\u001b[1mwandb\u001b[0m: \n",
            "\u001b[34m\u001b[1mwandb\u001b[0m: Synced \u001b[33mernie-tiny-htype_5e\u001b[0m: \u001b[34mhttps://wandb.ai/jb-diplom/janice-final/runs/ernie-tiny-htype_5e2021-05-27_21.41.29\u001b[0m\n"
          ],
          "name": "stdout"
        }
      ]
    },
    {
      "cell_type": "markdown",
      "metadata": {
        "id": "4FrJdV7eMAbG"
      },
      "source": [
        "# Testing of fine-tuned models\n",
        "Retrieve model from W&B repository"
      ]
    },
    {
      "cell_type": "code",
      "metadata": {
        "cellView": "form",
        "colab": {
          "base_uri": "https://localhost:8080/",
          "height": 204
        },
        "id": "ZKRacEzX6ifg",
        "outputId": "43a4b91b-f64b-488d-f846-58bfe13d6750"
      },
      "source": [
        "# run = wandb.init()\n",
        "run= wandb.init(project=WandB_Project, entity='jb-diplom')\n",
        "# Take this from just finished run or from one of your \n",
        "# favorite fine-tuned models at https://wandb.ai/jb-diplom/janice-full/artifacts\n",
        "\n",
        "#@markdown Enter Model Name to be retreived from https://wandb.ai\n",
        "use_latest_model = True #@param {type:\"boolean\"}\n",
        "if use_latest_model:\n",
        "  model_id=own_modelid\n",
        "else:\n",
        "  model_id = ''  #@param {type: \"string\"}\n",
        "  own_modelid = model_id\n",
        "\n",
        "model_root= 'jb-diplom/' + WandB_Project + '/model-'\n",
        "model_path= model_root + model_id + ':v0'\n",
        "print(\"Retreiving artefact:\", model_path)\n",
        "artifact = run.use_artifact(model_path, type='model')\n",
        "# artifact = run.use_artifact('jb-diplom/janice-full/model-219xio3e:v0', type='model')\n",
        "artifact_dir = artifact.download()\n",
        "print(\"Model saved locally to:\", artifact_dir)"
      ],
      "execution_count": 43,
      "outputs": [
        {
          "output_type": "stream",
          "text": [
            "\u001b[34m\u001b[1mwandb\u001b[0m: wandb version 0.10.31 is available!  To upgrade, please run:\n",
            "\u001b[34m\u001b[1mwandb\u001b[0m:  $ pip install wandb --upgrade\n"
          ],
          "name": "stderr"
        },
        {
          "output_type": "display_data",
          "data": {
            "text/html": [
              "\n",
              "                Tracking run with wandb version 0.10.30<br/>\n",
              "                Syncing run <strong style=\"color:#cdcd00\">pleasant-snowflake-316</strong> to <a href=\"https://wandb.ai\" target=\"_blank\">Weights & Biases</a> <a href=\"https://docs.wandb.com/integrations/jupyter.html\" target=\"_blank\">(Documentation)</a>.<br/>\n",
              "                Project page: <a href=\"https://wandb.ai/jb-diplom/janice-final\" target=\"_blank\">https://wandb.ai/jb-diplom/janice-final</a><br/>\n",
              "                Run page: <a href=\"https://wandb.ai/jb-diplom/janice-final/runs/xm8z67k9\" target=\"_blank\">https://wandb.ai/jb-diplom/janice-final/runs/xm8z67k9</a><br/>\n",
              "                Run data is saved locally in <code>/content/wandb/run-20210527_220608-xm8z67k9</code><br/><br/>\n",
              "            "
            ],
            "text/plain": [
              "<IPython.core.display.HTML object>"
            ]
          },
          "metadata": {
            "tags": []
          }
        },
        {
          "output_type": "stream",
          "text": [
            "Retreiving artefact: jb-diplom/janice-final/model-ernie-tiny-htype_5e2021-05-27_21.41.29:v0\n"
          ],
          "name": "stdout"
        },
        {
          "output_type": "stream",
          "text": [
            "\u001b[34m\u001b[1mwandb\u001b[0m: Downloading large artifact model-ernie-tiny-htype_5e2021-05-27_21.41.29:v0, 347.19MB. 7 files... Done. 0:0:0\n"
          ],
          "name": "stderr"
        },
        {
          "output_type": "stream",
          "text": [
            "Model saved locally to: ./artifacts/model-ernie-tiny-htype_5e2021-05-27_21.41.29:v0\n"
          ],
          "name": "stdout"
        }
      ]
    },
    {
      "cell_type": "code",
      "metadata": {
        "colab": {
          "base_uri": "https://localhost:8080/"
        },
        "id": "l2jX4Te7yUMn",
        "cellView": "form",
        "outputId": "dadea811-7fdc-47bd-825c-b6bcda516486"
      },
      "source": [
        "# Load fine-tuned model\n",
        "from transformers import GPT2TokenizerFast,AutoTokenizer\n",
        "model_path='/content/artifacts/model-' + model_id + ':v0' # The model just downloaded from wandb.io\n",
        "\n",
        "humour_classif = ''\n",
        "\n",
        "if \"gpt2\" in model_id:\n",
        "  # tokenizer = GPT2TokenizerFast.from_pretrained(\"gpt2\",add_prefix_space=True)\n",
        "  tokenizer = AutoTokenizer.from_pretrained(\n",
        "        model_path,\n",
        "        truncation=True,is_split_into_words=True,add_prefix_space=True\n",
        "    )\n",
        "  humour_classif = pipeline('sentiment-analysis',model_path,tokenizer=tokenizer)\n",
        "  humour_classif.tokenizer.padding_side = \"left\"\n",
        "  humour_classif.tokenizer.pad_token = humour_classif.tokenizer.eos_token\n",
        "  print(\"specialtoken:\",humour_classif.tokenizer.pad_token)\n",
        "  humour_classif.tokenizer.truncation=True\n",
        "  humour_classif.tokenizer.padding=False\n",
        "  humour_classif.tokenizer.add_special_tokens=True\n",
        "  humour_classif.model.resize_token_embeddings(len(humour_classif.tokenizer))\n",
        "  humour_classif.model.config.pad_token_id = humour_classif.model.config.eos_token_id\n",
        "else:\n",
        "  humour_classif = pipeline('sentiment-analysis',model_path)\n",
        "\n",
        "# This text classification pipeline can currently be loaded from pipeline() using the following task \n",
        "# identifier: \"sentiment-analysis\"\n",
        "#@markdown ***Create Pipeline***<br>\n",
        "#@markdown Enter a test string to check whether the downloaded model is working\n",
        "test_string = 'Metal Beer Solid @midnight #RuinAVideoGame'  #@param {type: \"string\"}\n",
        "\n",
        "humour_classif(test_string)"
      ],
      "execution_count": 44,
      "outputs": [
        {
          "output_type": "execute_result",
          "data": {
            "text/plain": [
              "[{'label': 'LABEL_3', 'score': 0.7373367547988892}]"
            ]
          },
          "metadata": {
            "tags": []
          },
          "execution_count": 44
        }
      ]
    },
    {
      "cell_type": "code",
      "metadata": {
        "cellView": "form",
        "id": "uWfk3Nt4jDgD"
      },
      "source": [
        "#@markdown Load file (specified for testing above) for manual testing\n",
        "# Take test.tsv and compare expected with actual results\n",
        "test_df = pd.read_csv(test_file.value, delimiter='\\t', header=None, \n",
        "                        lineterminator='\\n',encoding='utf-8')\n",
        "cols=['Text','Humour Level']\n",
        "test_df.columns=cols\n",
        "# test_df.describe()\n",
        "data_table.DataTable(test_df, include_index=False, num_rows_per_page=10)"
      ],
      "execution_count": null,
      "outputs": []
    },
    {
      "cell_type": "code",
      "metadata": {
        "colab": {
          "base_uri": "https://localhost:8080/",
          "height": 134,
          "referenced_widgets": [
            "3a59e0c322444de4b17c8ea92289324d",
            "785f9c96d7ff4cd2b1b7a1964fe4ec3b",
            "c97bffb3ca7a4321b82c19c662352ea5",
            "33b7593b380e43baab0b2dee10a27f88",
            "1d6e3d11e61e483d960c4f93e9b26385",
            "f5872fbc72e14bc2829f0658a29567b3",
            "cd00a155c1d64ab389ba7f18e15f206b",
            "f0e343c170c54d6a8b72ba0f169f2e5e"
          ]
        },
        "id": "8IKgPZHCkjOM",
        "cellView": "form",
        "outputId": "1eb17330-e93a-4945-eb34-9b63df019d63"
      },
      "source": [
        "# Do a little test against a chosen test-dataset\n",
        "#@markdown #### **Attention:** This Operation may take many hours, depending on the quantity of test data!\n",
        "#@markdown ----\n",
        "#@markdown ###How many records would you like to test?\n",
        "#@markdown An entry of -1 implies processing of **ALL** records\n",
        "\n",
        "sample_nr =   -1#@param {type: \"number\"}\n",
        "\n",
        "# tweet_df.iloc[1:5, 1:1]\n",
        "content=test_df.iloc[:,0]\n",
        "labels=test_df.iloc[:,1]\n",
        "humour=[]\n",
        "y_true=[]\n",
        "y_score=[]\n",
        "\n",
        "# establish humour content of tweet from fine-tuned model\n",
        "hit=0\n",
        "miss=0\n",
        "out_by_one=0\n",
        "\n",
        "for i, tweet in tqdm(enumerate(content.head(sample_nr)),total=(len(content) if sample_nr==-1 else sample_nr)):\n",
        "  # clip to max_seq_length, extract the number from the label of the result \n",
        "  cls_val=humour_classif('{:1.512}'.format(tweet))\n",
        "  val=cls_val[0]['label'][6:7:1]\n",
        "  try:\n",
        "    if (int(val) == int(labels[i][0:1:1])):\n",
        "      y_true.append(1)\n",
        "      hit +=1\n",
        "    else:\n",
        "      miss +=1\n",
        "      y_true.append(0)\n",
        "      if abs(int(val) - int(labels[i][0:1:1])) <3:\n",
        "        out_by_one += 1\n",
        "    humour.append(val)\n",
        "    y_score.append(cls_val[0]['score'])\n",
        "  except:\n",
        "    continue\n",
        "\n",
        "print (\"Hits:\", hit,\"\\nMisses:\",miss,\"\\nOut by one:\", out_by_one, \"\\n%-age of hits:\", (hit*100)/(hit+miss))\n",
        "# '{:1.35}'.format('12345678901234567890') use to truncate string\n"
      ],
      "execution_count": 45,
      "outputs": [
        {
          "output_type": "display_data",
          "data": {
            "application/vnd.jupyter.widget-view+json": {
              "model_id": "3a59e0c322444de4b17c8ea92289324d",
              "version_minor": 0,
              "version_major": 2
            },
            "text/plain": [
              "HBox(children=(FloatProgress(value=0.0, max=3193.0), HTML(value='')))"
            ]
          },
          "metadata": {
            "tags": []
          }
        },
        {
          "output_type": "stream",
          "text": [
            "\n",
            "Hits: 2350 \n",
            "Misses: 841 \n",
            "Out by one: 316 \n",
            "%-age of hits: 73.64462550924475\n"
          ],
          "name": "stdout"
        }
      ]
    },
    {
      "cell_type": "code",
      "metadata": {
        "colab": {
          "base_uri": "https://localhost:8080/",
          "height": 1000
        },
        "id": "9Qny8fgXhozO",
        "cellView": "form",
        "outputId": "a28c14ff-07b9-49b4-ce12-99b21b5eaa27"
      },
      "source": [
        "#@title Analyse Results of Training\n",
        "\n",
        "#@markdown Which type of model is being analysed?\n",
        "Data_Type = \"Humour Type\" #@param [\"Humour Type\", \"Humour Degree\", \"H-Degree (binary)\"]\n",
        "\n",
        "#@markdown To assess the statistical success of the fine-tuning, 3 analyses are conducted using the test data-set:\n",
        "#@markdown  **TODO** add option for humour degree (0to5) or txype (0to8)\n",
        "\n",
        "#@markdown * **Confusion Matrix**<br>\n",
        "#@markdown  A confusion matrix is a table that is often used to describe the performance of a classification model (or \"classifier\") on a set of test data for which the true values are known.\n",
        "#@markdown Here the classifiers are ether humour type or degree of humour. The correctly predicted results (as compared against the expected results in the test data) are\n",
        "#@markdown those on the diagonal. The numbers within the matrix represent the following four cases\n",
        "#@markdown * true positives (TP): These are cases in which the trained NLM predicted the correct value (of type or degree)\n",
        "#@markdown * true negatives (TN): These are cases in which the trained NLM predicted correctly that the value (of type or degree) is not fitting for the test text\n",
        "#@markdown * false positives (FP): These are cases in which the trained NLM predicted incorrectly that the value (of type or degree) would match for the test text\n",
        "#@markdown * false negatives (FN): These are cases in which the trained NLM predicted incorrectly that the value (of type or degree) is not fitting for the test text\n",
        "#@markdown To help with interpretation of the results, the first matrix is additionally normalized according to the proportion of all values for each indicator counted individually for the test run\n",
        "#@markdown <br>For more details consult \n",
        "#@markdown [scikit Confusion Matrix](https://scikit-learn.org/stable/auto_examples/model_selection/plot_confusion_matrix.html)\n",
        "\n",
        "#@markdown * **ROC Curve**<br>\n",
        "#@markdown  This is a commonly used graph that summarizes the performance of a classifier over all possible thresholds. It is generated by plotting the True Positive Rate (y-axis) against the False Positive Rate (x-axis) as you vary the threshold for assigning observations to a given class \n",
        "#@markdown <br>For more details consult \n",
        "#@markdown [scikit ROC](https://scikit-learn.org/stable/auto_examples/model_selection/plot_roc.html)\n",
        "\n",
        "#@markdown * **Precision Recall**<br>\n",
        "#@markdown  Precision-Recall is a useful measure of success of prediction when the classes are very imbalanced. \n",
        "#@markdown In information retrieval, precision is a measure of result relevancy, while recall is a measure of how many truly relevant results are returned.\n",
        "#@markdown The precision-recall curve shows the tradeoff between precision and recall for different threshold. \n",
        "#@markdown A high area under the curve represents both high recall and high precision, where high precision relates to a low false \n",
        "#@markdown positive rate, and high recall relates to a low false negative rate. High scores for both show that the classifier is returning accurate results \n",
        "#@markdown (high precision), as well as returning a majority of all positive results (high recall).<br>\n",
        "#@markdown Average precision (**AP**) summarizes such a plot as the weighted mean of precisions achieved at each threshold, \n",
        "#@markdown with the increase in recall from the previous threshold used as the weight. <br>For more details consult \n",
        "#@markdown [scikit Precision Recall](https://scikit-learn.org/stable/auto_examples/model_selection/plot_precision_recall.html)\n",
        "\n",
        "names=['serious','fun','benevolent','wit','nonsense','irony','satire','sarcasm','cynicism']\n",
        "degree_names=['serious','wry smile','smile','grin','very funny','hilarious']\n",
        "binary_degree_names=['serious','funny']\n",
        "clean_h=[]\n",
        "for val in humour:\n",
        "  clean_h.append(val.replace('\\r',\"\"))\n",
        "clean_p=[]\n",
        "pred=test_df['Humour Level'].tolist()[1:len(clean_h)+1:1]\n",
        "for val in pred:\n",
        "  clean_p.append(val.replace(' ',\"\").replace('\\r',\"\"))\n",
        "\n",
        "fig = plt.figure()\n",
        "cm_n =''\n",
        "cm = ''\n",
        "if Data_Type == \"Humour Type\":\n",
        "  cm_n=confusion_matrix(clean_p,clean_h, labels=['0','1','2','3','4','5','6','7','8'], normalize= 'pred')\n",
        "  cm=confusion_matrix(clean_p,clean_h, labels=['0','1','2','3','4','5','6','7','8'])\n",
        "  cm_n_display = ConfusionMatrixDisplay(cm_n, display_labels=names)\n",
        "  cm_display = ConfusionMatrixDisplay(cm, display_labels=names)\n",
        "elif Data_Type == \"Humour Degree\" :\n",
        "  cm_n=confusion_matrix(clean_p,clean_h, labels=['0','1','2','3','4','5'], normalize= 'pred')\n",
        "  cm=confusion_matrix(clean_p,clean_h, labels=['0','1','2','3','4','5'])\n",
        "  cm_n_display = ConfusionMatrixDisplay(cm_n, display_labels=degree_names)\n",
        "  cm_display = ConfusionMatrixDisplay(cm, display_labels=degree_names)\n",
        "else :\n",
        "  cm_n=confusion_matrix(clean_p,clean_h, labels=['0','1'], normalize= 'pred')\n",
        "  cm=confusion_matrix(clean_p,clean_h, labels=['0','1'])\n",
        "  cm_n_display = ConfusionMatrixDisplay(cm_n, display_labels=binary_degree_names)\n",
        "  cm_display = ConfusionMatrixDisplay(cm, display_labels=binary_degree_names)\n",
        "\n",
        "fpr, tpr,  _ = roc_curve(y_true, y_score, pos_label=1)\n",
        "roc_auc = metrics.auc(fpr, tpr)\n",
        "# fig2, ax2 = plt.subplots(figsize=(10,10))\n",
        "roc_display = RocCurveDisplay(fpr=fpr, tpr=tpr, roc_auc=roc_auc, estimator_name=\"\")\n",
        "\n",
        "avg_precision = average_precision_score(y_true, y_score)\n",
        "prec, recall, _ = precision_recall_curve(y_true, y_score, pos_label=1)\n",
        "pr_display = PrecisionRecallDisplay(precision=prec, recall=recall,average_precision=avg_precision,estimator_name=\"\" )\n",
        "\n",
        "# Try a multi plot :-)\n",
        "# fig, (ax1, ax2, ax3, ax4) = plt.subplots(4, 1, figsize=(20, 20))\n",
        "fig, axs = plt.subplots(2, 2, figsize=(20, 20))\n",
        "\n",
        "cm_n_display.plot(ax=axs[0,0],cmap='magma')\n",
        "axs[0,0].set_title('Normalized Confusion Matrix')\n",
        "cm_display.plot(ax=axs[0,1],cmap='magma')\n",
        "axs[0,1].set_title('Raw Confusion Matrix')\n",
        "roc_display.plot(ax=axs[1,0])\n",
        "axs[1,0].set_title('ROC Plot')\n",
        "pr_display.plot(ax=axs[1,1])\n",
        "axs[1,1].set_title('Precision Recall Plot')\n",
        "# plt.show()\n",
        "\n",
        "# create image to save to wandb\n",
        "plotname= \"conf_matrix-\" + own_modelid + \".png\"\n",
        "plot_dir = \"/content/gdrive/MyDrive/ColabNotebooks/Visualization/plots/\"\n",
        "fig.savefig(plot_dir + plotname)\n",
        "\n",
        "# TODO : extend this to multi-class precision recall. See example here\n",
        "# https://scikit-learn.org/stable/auto_examples/model_selection/plot_precision_recall.html#sphx-glr-auto-examples-model-selection-plot-precision-recall-py\n"
      ],
      "execution_count": 46,
      "outputs": [
        {
          "output_type": "display_data",
          "data": {
            "text/plain": [
              "<Figure size 432x288 with 0 Axes>"
            ]
          },
          "metadata": {
            "tags": []
          }
        },
        {
          "output_type": "display_data",
          "data": {
            "image/png": "[encoded data removed]",
            "text/plain": [
              "<Figure size 1440x1440 with 6 Axes>"
            ]
          },
          "metadata": {
            "tags": [],
            "needs_background": "light"
          }
        }
      ]
    },
    {
      "cell_type": "code",
      "metadata": {
        "colab": {
          "base_uri": "https://localhost:8080/",
          "height": 1000,
          "referenced_widgets": [
            "9783a6c5c3f841c199f89f596c3a28c8",
            "97101abd4d8f4cefa126e36a38b3275c",
            "e4297c1270644b8a93f5ad42f31316de",
            "7d3adb09db4146b7865a0e8602e0d969",
            "198835a9395c405e8d214630c9381766",
            "40a20c895cf84bb89eca67216cda61e9",
            "037da32832b6439b97c2c4d2c2441d43",
            "819d35920ffe4326ad0d84ed186ae146",
            "ceb4ea658ef64be8ac1dd5378432328f",
            "6c76d84e2d37423c8d59b3127b80a8f5",
            "9ce8ef226f0d4524b5b271fae50df14c",
            "e0ac99737b0347198d82b8b4f1e697e6",
            "e09dd7c18a584dcba4b005d67ab449de",
            "69b719b4725245fcb757f80794f78436",
            "8ac5b2876e1e49ef9a633765f83db0c2",
            "b2b39cf866f34cbc87fd03b9c9b44d60"
          ]
        },
        "id": "IOuh3KfveTT8",
        "cellView": "form",
        "outputId": "8be8aee7-8836-479b-dcf9-69f40f9d6212"
      },
      "source": [
        "#@title Calculate Metrics for Precision, Recall and F1\n",
        "\n",
        "#@markdown Compute precision, recall, F-measure and support for each class <br>The precision is the ratio tp / (tp + fp) where tp is the number of true positives and fp the number of false positives\n",
        "#@markdown * The precision is intuitively the ability of the classifier not to label as positive a sample that is negative.\n",
        "#@markdown * The recall is the ratio tp / (tp + fn) where tp is the number of true positives and fn the number of false negatives. <br>The recall is intuitively the ability of the classifier to find all the positive samples.\n",
        "#@markdown * The F-beta score can be interpreted as a weighted harmonic mean of the precision and recall, where an F-beta score reaches its best value at 1 and worst score at 0.\n",
        "#@markdown * The F-beta score weights recall more than precision by a factor of beta. beta == 1.0 means recall and precision are equally important.\n",
        "\n",
        "#@markdown **NB:** The metrics and image of the Confusion Matrix, ROC plot and Precision/Recall plot are all archived to WandB\n",
        "# print( \"F1 none:\",f1_score(clean_h,clean_p, average=None))\n",
        "from sklearn.metrics import precision_recall_fscore_support\n",
        "# print( \"Prec, Recall, F-Score (macro):\",precision_recall_fscore_support(clean_h, clean_p, average='macro'))\n",
        "# print( \"Prec, Recall, F-Score (micro):\",precision_recall_fscore_support(clean_h, clean_p, average='micro'))\n",
        "prf_weighted = precision_recall_fscore_support(clean_h, clean_p, average='weighted')\n",
        "print( \"Prec, Recall, F-Score (weighted):\",prf_weighted)\n",
        "print( \"Prec, Recall, F-Score (per category):\",precision_recall_fscore_support(clean_h, clean_p, average=None))\n",
        "\n",
        "# relay metrics to WandB\n",
        "api = wandb.Api()\n",
        "# run = api.run(\"jb-diplom/\"+ WandB_Project + \"/\" + own_modelid)\n",
        "\n",
        "run_id=\"jb-diplom/\"+ WandB_Project + \"/runs/\" + own_modelid\n",
        "run = api.run(run_id)\n",
        "\n",
        "run.summary[\"precision\"] = prf_weighted[0]\n",
        "run.summary[\"recall\"] = prf_weighted[1]\n",
        "run.summary[\"F1\"] = prf_weighted[2]\n",
        "run.summary.update()\n",
        "\n",
        "# Send saved image of plots to WandB\n",
        "# run_id=\"jb-diplom/\"+ WandB_Project + \"/\" + own_modelid\n",
        "wandb.init(project=WandB_Project, entity='jb-diplom', id=wandb.Api().run(run_id).id, resume='allow')\n",
        "im = plt.imread(plot_dir + plotname) # from previous cell\n",
        "wandb.log({\"img\": [wandb.Image(im, caption=plotname)]})\n",
        "wandb.finish()"
      ],
      "execution_count": 47,
      "outputs": [
        {
          "output_type": "stream",
          "text": [
            "/usr/local/lib/python3.7/dist-packages/sklearn/metrics/_classification.py:1272: UndefinedMetricWarning:\n",
            "\n",
            "Recall and F-score are ill-defined and being set to 0.0 in labels with no true samples. Use `zero_division` parameter to control this behavior.\n",
            "\n"
          ],
          "name": "stderr"
        },
        {
          "output_type": "stream",
          "text": [
            "Prec, Recall, F-Score (weighted): (0.8426722698520799, 0.7364462550924475, 0.7774590771106445, None)\n",
            "Prec, Recall, F-Score (per category): (array([0.94701583, 0.        , 0.        , 0.9133425 , 0.45544554,\n",
            "       0.0212766 , 0.        , 0.27272727, 0.        ]), array([0.95398773, 0.        , 0.        , 0.62172285, 0.22115385,\n",
            "       0.14285714, 0.        , 0.30545455, 0.        ]), array([0.950489  , 0.        , 0.        , 0.73983287, 0.29773463,\n",
            "       0.03703704, 0.        , 0.28816467, 0.        ]), array([1630,    3,    0, 1068,  208,    7,    0,  275,    0]))\n"
          ],
          "name": "stdout"
        },
        {
          "output_type": "display_data",
          "data": {
            "text/html": [
              "Finishing last run (ID:xm8z67k9) before initializing another..."
            ],
            "text/plain": [
              "<IPython.core.display.HTML object>"
            ]
          },
          "metadata": {
            "tags": []
          }
        },
        {
          "output_type": "display_data",
          "data": {
            "text/html": [
              "<br/>Waiting for W&B process to finish, PID 2937<br/>Program ended successfully."
            ],
            "text/plain": [
              "<IPython.core.display.HTML object>"
            ]
          },
          "metadata": {
            "tags": []
          }
        },
        {
          "output_type": "display_data",
          "data": {
            "application/vnd.jupyter.widget-view+json": {
              "model_id": "9783a6c5c3f841c199f89f596c3a28c8",
              "version_minor": 0,
              "version_major": 2
            },
            "text/plain": [
              "VBox(children=(Label(value=' 0.00MB of 0.00MB uploaded (0.00MB deduped)\\r'), FloatProgress(value=1.0, max=1.0)…"
            ]
          },
          "metadata": {
            "tags": []
          }
        },
        {
          "output_type": "display_data",
          "data": {
            "text/html": [
              "Find user logs for this run at: <code>/content/wandb/run-20210527_220608-xm8z67k9/logs/debug.log</code>"
            ],
            "text/plain": [
              "<IPython.core.display.HTML object>"
            ]
          },
          "metadata": {
            "tags": []
          }
        },
        {
          "output_type": "display_data",
          "data": {
            "text/html": [
              "Find internal logs for this run at: <code>/content/wandb/run-20210527_220608-xm8z67k9/logs/debug-internal.log</code>"
            ],
            "text/plain": [
              "<IPython.core.display.HTML object>"
            ]
          },
          "metadata": {
            "tags": []
          }
        },
        {
          "output_type": "display_data",
          "data": {
            "text/html": [
              "Synced 5 W&B file(s), 0 media file(s), 0 artifact file(s) and 0 other file(s)"
            ],
            "text/plain": [
              "<IPython.core.display.HTML object>"
            ]
          },
          "metadata": {
            "tags": []
          }
        },
        {
          "output_type": "display_data",
          "data": {
            "text/html": [
              "\n",
              "                    <br/>Synced <strong style=\"color:#cdcd00\">pleasant-snowflake-316</strong>: <a href=\"https://wandb.ai/jb-diplom/janice-final/runs/xm8z67k9\" target=\"_blank\">https://wandb.ai/jb-diplom/janice-final/runs/xm8z67k9</a><br/>\n",
              "                "
            ],
            "text/plain": [
              "<IPython.core.display.HTML object>"
            ]
          },
          "metadata": {
            "tags": []
          }
        },
        {
          "output_type": "display_data",
          "data": {
            "text/html": [
              "...Successfully finished last run (ID:xm8z67k9). Initializing new run:<br/><br/>"
            ],
            "text/plain": [
              "<IPython.core.display.HTML object>"
            ]
          },
          "metadata": {
            "tags": []
          }
        },
        {
          "output_type": "stream",
          "text": [
            "\u001b[34m\u001b[1mwandb\u001b[0m: wandb version 0.10.31 is available!  To upgrade, please run:\n",
            "\u001b[34m\u001b[1mwandb\u001b[0m:  $ pip install wandb --upgrade\n"
          ],
          "name": "stderr"
        },
        {
          "output_type": "display_data",
          "data": {
            "text/html": [
              "\n",
              "                Tracking run with wandb version 0.10.30<br/>\n",
              "                Resuming run <strong style=\"color:#cdcd00\">ernie-tiny-htype_5e</strong> to <a href=\"https://wandb.ai\" target=\"_blank\">Weights & Biases</a> <a href=\"https://docs.wandb.com/integrations/jupyter.html\" target=\"_blank\">(Documentation)</a>.<br/>\n",
              "                Project page: <a href=\"https://wandb.ai/jb-diplom/janice-final\" target=\"_blank\">https://wandb.ai/jb-diplom/janice-final</a><br/>\n",
              "                Run page: <a href=\"https://wandb.ai/jb-diplom/janice-final/runs/ernie-tiny-htype_5e2021-05-27_21.41.29\" target=\"_blank\">https://wandb.ai/jb-diplom/janice-final/runs/ernie-tiny-htype_5e2021-05-27_21.41.29</a><br/>\n",
              "                Run data is saved locally in <code>/content/wandb/run-20210527_221039-ernie-tiny-htype_5e2021-05-27_21.41.29</code><br/><br/>\n",
              "            "
            ],
            "text/plain": [
              "<IPython.core.display.HTML object>"
            ]
          },
          "metadata": {
            "tags": []
          }
        },
        {
          "output_type": "display_data",
          "data": {
            "text/html": [
              "<br/>Waiting for W&B process to finish, PID 3032<br/>Program ended successfully."
            ],
            "text/plain": [
              "<IPython.core.display.HTML object>"
            ]
          },
          "metadata": {
            "tags": []
          }
        },
        {
          "output_type": "display_data",
          "data": {
            "application/vnd.jupyter.widget-view+json": {
              "model_id": "ceb4ea658ef64be8ac1dd5378432328f",
              "version_minor": 0,
              "version_major": 2
            },
            "text/plain": [
              "VBox(children=(Label(value=' 0.00MB of 0.10MB uploaded (0.00MB deduped)\\r'), FloatProgress(value=0.00647561177…"
            ]
          },
          "metadata": {
            "tags": []
          }
        },
        {
          "output_type": "display_data",
          "data": {
            "text/html": [
              "Find user logs for this run at: <code>/content/wandb/run-20210527_221039-ernie-tiny-htype_5e2021-05-27_21.41.29/logs/debug.log</code>"
            ],
            "text/plain": [
              "<IPython.core.display.HTML object>"
            ]
          },
          "metadata": {
            "tags": []
          }
        },
        {
          "output_type": "display_data",
          "data": {
            "text/html": [
              "Find internal logs for this run at: <code>/content/wandb/run-20210527_221039-ernie-tiny-htype_5e2021-05-27_21.41.29/logs/debug-internal.log</code>"
            ],
            "text/plain": [
              "<IPython.core.display.HTML object>"
            ]
          },
          "metadata": {
            "tags": []
          }
        },
        {
          "output_type": "display_data",
          "data": {
            "text/html": [
              "<h3>Run summary:</h3><br/><style>\n",
              "    table.wandb td:nth-child(1) { padding: 0 10px; text-align: right }\n",
              "    </style><table class=\"wandb\">\n",
              "<tr><td>train/train_runtime</td><td>1276.7329</td></tr><tr><td>F1</td><td>0.77746</td></tr><tr><td>train/total_flos</td><td>1.77781221704448e+16</td></tr><tr><td>eval/runtime</td><td>11.1997</td></tr><tr><td>eval/samples_per_second</td><td>284.919</td></tr><tr><td>train/loss</td><td>0.7576</td></tr><tr><td>_timestamp</td><td>1622153444</td></tr><tr><td>_step</td><td>53</td></tr><tr><td>train/learning_rate</td><td>0</td></tr><tr><td>eval/accuracy</td><td>0.74773</td></tr><tr><td>train/global_step</td><td>1000</td></tr><tr><td>eval/loss</td><td>0.75073</td></tr><tr><td>train/train_samples_per_second</td><td>0.783</td></tr><tr><td>recall</td><td>0.73645</td></tr><tr><td>train/epoch</td><td>5</td></tr><tr><td>_runtime</td><td>1327</td></tr><tr><td>precision</td><td>0.84267</td></tr></table>"
            ],
            "text/plain": [
              "<IPython.core.display.HTML object>"
            ]
          },
          "metadata": {
            "tags": []
          }
        },
        {
          "output_type": "display_data",
          "data": {
            "text/html": [
              "<h3>Run history:</h3><br/><style>\n",
              "    table.wandb td:nth-child(1) { padding: 0 10px; text-align: right }\n",
              "    </style><table class=\"wandb\">\n",
              "<tr><td>_runtime</td><td>▁</td></tr><tr><td>_timestamp</td><td>▁</td></tr><tr><td>_step</td><td>▁</td></tr></table><br/>"
            ],
            "text/plain": [
              "<IPython.core.display.HTML object>"
            ]
          },
          "metadata": {
            "tags": []
          }
        },
        {
          "output_type": "display_data",
          "data": {
            "text/html": [
              "Synced 4 W&B file(s), 1 media file(s), 0 artifact file(s) and 0 other file(s)"
            ],
            "text/plain": [
              "<IPython.core.display.HTML object>"
            ]
          },
          "metadata": {
            "tags": []
          }
        },
        {
          "output_type": "display_data",
          "data": {
            "text/html": [
              "\n",
              "                    <br/>Synced <strong style=\"color:#cdcd00\">ernie-tiny-htype_5e</strong>: <a href=\"https://wandb.ai/jb-diplom/janice-final/runs/ernie-tiny-htype_5e2021-05-27_21.41.29\" target=\"_blank\">https://wandb.ai/jb-diplom/janice-final/runs/ernie-tiny-htype_5e2021-05-27_21.41.29</a><br/>\n",
              "                "
            ],
            "text/plain": [
              "<IPython.core.display.HTML object>"
            ]
          },
          "metadata": {
            "tags": []
          }
        }
      ]
    },
    {
      "cell_type": "code",
      "metadata": {
        "colab": {
          "base_uri": "https://localhost:8080/",
          "height": 210
        },
        "id": "nn4Zr64i2ZI5",
        "outputId": "61ff83ac-d0e1-45a2-b2cd-270674eb5c45"
      },
      "source": [
        "# Read in tweets, do humour evaluation and write results back to df and save new csv\n",
        "#@title Optionally Enter Alternative File Name for Conducting Test{ vertical-output: true, form-width: \"50%\", display-mode: \"form\" }\n",
        "\n",
        "#@markdown #### Specify Source for Humour Tests (skip this if you wish to continue with the results obtained from the previous step)\n",
        "#@markdown ---\n",
        "\n",
        "basedir=\"/content/gdrive/MyDrive/ColabNotebooks/Visualization/msc_data/\"#@param {type:\"string\"}\n",
        "file_name='comedian-tweets250'#@param {type:\"string\"}\n",
        "ext=\".csv\" #@param {type:\"string\"}\n",
        "tweet_file=basedir + file_name + ext\n",
        "dtyps={'tweetId':str, 'content':str, 'username':str,'followers':int, 'conversationId':str, \n",
        "         'replyCount':int, 'retweetCount':int, 'likeCount':int, 'quoteCount':int}\n",
        "\n",
        "# tweet_df = pd.read_csv(tweet_file, delimiter='\\t', header=None, dtype=dtyps,lineterminator='\\n',encoding='utf-16')\n",
        "# tweet_df = pd.read_csv(tweet_file, delimiter='\\t', header=None, dtype=dtyps,encoding='utf-16')\n",
        "# cols=['tweetId', 'content', 'username','followers', 'conversationId', 'replyCount', 'retweetCount', 'likeCount', 'quoteCount']\n",
        "\n",
        "tweet_df = pd.read_csv(tweet_file, delimiter='\\t',encoding='utf-16')\n",
        "# tweet_df.pop(tweet_df.columns[0])\n",
        "# tweet_df.pop(tweet_df.columns[3])\n",
        "\n",
        "tweet_df.head()"
      ],
      "execution_count": 17,
      "outputs": [
        {
          "output_type": "execute_result",
          "data": {
            "application/vnd.google.colaboratory.module+javascript": "\n      import \"https://ssl.gstatic.com/colaboratory/data_table/a6224c040fa35dcf/data_table.js\";\n\n      window.createDataTable({\n        data: [[{\n            'v': 0,\n            'f': \"0\",\n        },\n{\n            'v': \"1384617849415688192\",\n            'f': \"1384617849415688192\",\n        },\n\"American police forces were established to catch runaway slaves and protect capital. Killing George Floyd fit right the fuck in with those directives. Abolish the police.\",\n\"robdelaney\",\n{\n            'v': 1581288,\n            'f': \"1581288\",\n        },\n{\n            'v': \"1384617849415688192\",\n            'f': \"1384617849415688192\",\n        },\n{\n            'v': 78,\n            'f': \"78\",\n        },\n{\n            'v': 455,\n            'f': \"455\",\n        },\n{\n            'v': 4774,\n            'f': \"4774\",\n        },\n{\n            'v': 10,\n            'f': \"10\",\n        }],\n [{\n            'v': 1,\n            'f': \"1\",\n        },\n{\n            'v': \"1384613550526803969\",\n            'f': \"1384613550526803969\",\n        },\n\"Oh my god, I sound so horny as a French person. https://t.co/71lNORUgmE\",\n\"WeeMissBea\",\n{\n            'v': 508964,\n            'f': \"508964\",\n        },\n{\n            'v': \"1384613550526803969\",\n            'f': \"1384613550526803969\",\n        },\n{\n            'v': 55,\n            'f': \"55\",\n        },\n{\n            'v': 21,\n            'f': \"21\",\n        },\n{\n            'v': 1016,\n            'f': \"1016\",\n        },\n{\n            'v': 1,\n            'f': \"1\",\n        }],\n [{\n            'v': 2,\n            'f': \"2\",\n        },\n{\n            'v': \"1384597084448464906\",\n            'f': \"1384597084448464906\",\n        },\n\"Take down immediatejt https://t.co/CiVIQEfo1V\",\n\"robdelaney\",\n{\n            'v': 1581288,\n            'f': \"1581288\",\n        },\n{\n            'v': \"1384597084448464906\",\n            'f': \"1384597084448464906\",\n        },\n{\n            'v': 17,\n            'f': \"17\",\n        },\n{\n            'v': 46,\n            'f': \"46\",\n        },\n{\n            'v': 1702,\n            'f': \"1702\",\n        },\n{\n            'v': 1,\n            'f': \"1\",\n        }],\n [{\n            'v': 3,\n            'f': \"3\",\n        },\n{\n            'v': \"1384498297381945346\",\n            'f': \"1384498297381945346\",\n        },\n\"https://t.co/6jKt6gC87Z\",\n\"robdelaney\",\n{\n            'v': 1581288,\n            'f': \"1581288\",\n        },\n{\n            'v': \"1384498297381945346\",\n            'f': \"1384498297381945346\",\n        },\n{\n            'v': 34,\n            'f': \"34\",\n        },\n{\n            'v': 32,\n            'f': \"32\",\n        },\n{\n            'v': 623,\n            'f': \"623\",\n        },\n{\n            'v': 5,\n            'f': \"5\",\n        }],\n [{\n            'v': 4,\n            'f': \"4\",\n        },\n{\n            'v': \"1384482731464138758\",\n            'f': \"1384482731464138758\",\n        },\n\"Susan's #CatofTheDay is Happ.\\n\\nThank you @Fred32115814 for sharing this pic! https://t.co/bmaRo5PrzA\",\n\"SusanCalman\",\n{\n            'v': 260039,\n            'f': \"260039\",\n        },\n{\n            'v': \"1384482731464138758\",\n            'f': \"1384482731464138758\",\n        },\n{\n            'v': 15,\n            'f': \"15\",\n        },\n{\n            'v': 24,\n            'f': \"24\",\n        },\n{\n            'v': 1138,\n            'f': \"1138\",\n        },\n{\n            'v': 1,\n            'f': \"1\",\n        }]],\n        columns: [[\"number\", \"index\"], [\"number\", \"tweetId\"], [\"string\", \"content\"], [\"string\", \"username\"], [\"number\", \"followers\"], [\"number\", \"conversationId\"], [\"number\", \"replyCount\"], [\"number\", \"retweetCount\"], [\"number\", \"likeCount\"], [\"number\", \"quoteCount\"]],\n        columnOptions: [{\"width\": \"1px\", \"className\": \"index_column\"}],\n        rowsPerPage: 25,\n        helpUrl: \"https://colab.research.google.com/notebooks/data_table.ipynb\",\n        suppressOutputScrolling: true,\n        minimumWidth: undefined,\n      });\n    ",
            "text/html": [
              "<div>\n",
              "<style scoped>\n",
              "    .dataframe tbody tr th:only-of-type {\n",
              "        vertical-align: middle;\n",
              "    }\n",
              "\n",
              "    .dataframe tbody tr th {\n",
              "        vertical-align: top;\n",
              "    }\n",
              "\n",
              "    .dataframe thead th {\n",
              "        text-align: right;\n",
              "    }\n",
              "</style>\n",
              "<table border=\"1\" class=\"dataframe\">\n",
              "  <thead>\n",
              "    <tr style=\"text-align: right;\">\n",
              "      <th></th>\n",
              "      <th>tweetId</th>\n",
              "      <th>content</th>\n",
              "      <th>username</th>\n",
              "      <th>followers</th>\n",
              "      <th>conversationId</th>\n",
              "      <th>replyCount</th>\n",
              "      <th>retweetCount</th>\n",
              "      <th>likeCount</th>\n",
              "      <th>quoteCount</th>\n",
              "    </tr>\n",
              "  </thead>\n",
              "  <tbody>\n",
              "    <tr>\n",
              "      <th>0</th>\n",
              "      <td>1384617849415688192</td>\n",
              "      <td>American police forces were established to cat...</td>\n",
              "      <td>robdelaney</td>\n",
              "      <td>1581288</td>\n",
              "      <td>1384617849415688192</td>\n",
              "      <td>78</td>\n",
              "      <td>455</td>\n",
              "      <td>4774</td>\n",
              "      <td>10</td>\n",
              "    </tr>\n",
              "    <tr>\n",
              "      <th>1</th>\n",
              "      <td>1384613550526803969</td>\n",
              "      <td>Oh my god, I sound so horny as a French person...</td>\n",
              "      <td>WeeMissBea</td>\n",
              "      <td>508964</td>\n",
              "      <td>1384613550526803969</td>\n",
              "      <td>55</td>\n",
              "      <td>21</td>\n",
              "      <td>1016</td>\n",
              "      <td>1</td>\n",
              "    </tr>\n",
              "    <tr>\n",
              "      <th>2</th>\n",
              "      <td>1384597084448464906</td>\n",
              "      <td>Take down immediatejt https://t.co/CiVIQEfo1V</td>\n",
              "      <td>robdelaney</td>\n",
              "      <td>1581288</td>\n",
              "      <td>1384597084448464906</td>\n",
              "      <td>17</td>\n",
              "      <td>46</td>\n",
              "      <td>1702</td>\n",
              "      <td>1</td>\n",
              "    </tr>\n",
              "    <tr>\n",
              "      <th>3</th>\n",
              "      <td>1384498297381945346</td>\n",
              "      <td>https://t.co/6jKt6gC87Z</td>\n",
              "      <td>robdelaney</td>\n",
              "      <td>1581288</td>\n",
              "      <td>1384498297381945346</td>\n",
              "      <td>34</td>\n",
              "      <td>32</td>\n",
              "      <td>623</td>\n",
              "      <td>5</td>\n",
              "    </tr>\n",
              "    <tr>\n",
              "      <th>4</th>\n",
              "      <td>1384482731464138758</td>\n",
              "      <td>Susan's #CatofTheDay is Happ.\\n\\nThank you @Fr...</td>\n",
              "      <td>SusanCalman</td>\n",
              "      <td>260039</td>\n",
              "      <td>1384482731464138758</td>\n",
              "      <td>15</td>\n",
              "      <td>24</td>\n",
              "      <td>1138</td>\n",
              "      <td>1</td>\n",
              "    </tr>\n",
              "  </tbody>\n",
              "</table>\n",
              "</div>"
            ],
            "text/plain": [
              "               tweetId  ... quoteCount\n",
              "0  1384617849415688192  ...         10\n",
              "1  1384613550526803969  ...          1\n",
              "2  1384597084448464906  ...          1\n",
              "3  1384498297381945346  ...          5\n",
              "4  1384482731464138758  ...          1\n",
              "\n",
              "[5 rows x 9 columns]"
            ]
          },
          "metadata": {
            "tags": []
          },
          "execution_count": 17
        }
      ]
    },
    {
      "cell_type": "code",
      "metadata": {
        "cellView": "form",
        "id": "L2I_h3Cw6sj5"
      },
      "source": [
        "use_all_samples = False #@param {type:\"boolean\"}\n",
        "sample_nr = 1210 #@param {type:\"slider\", min:10, max:5000, step:10}\n",
        "output_max= sample_nr\n",
        "\n",
        "if use_all_samples:\n",
        "  sample_nr = -1\n",
        "  output_max = len(tweet_df)\n",
        "\n"
      ],
      "execution_count": null,
      "outputs": []
    },
    {
      "cell_type": "code",
      "metadata": {
        "cellView": "form",
        "id": "eCqnN2_JPx2l"
      },
      "source": [
        "#@title Evaluate in Pipeline and Save (sample nr. or all) Results to GDrive\n",
        "#@markdown The results are added as column ***Humour*** to the test (input) data and are saved with a suffix (the model name) as `.tsv` file in the same directory\n",
        "\n",
        "content=tweet_df.iloc[:,1]  # grab the content column (it should be the 2nd)\n",
        "humour=[]\n",
        "\n",
        "for tweet in tqdm(content.head(sample_nr)):\n",
        "  humour.append(humour_classif(tweet)[0]['label'])\n",
        "\n",
        "hlen=len(humour)\n",
        "for i in range (hlen, len(tweet_df)):\n",
        "  humour.append(\"not evaluated\")\n",
        "\n",
        "# add humour column to dataframe\n",
        "tweet_df['Humour']=humour\n",
        "\n",
        "# save results\n",
        "tweet_file_out=basedir + file_name +'_' + model_id + ext\n",
        "print (\"Saving to:\", tweet_file_out)\n",
        "\n",
        "# tweet_df.to_csv(tweet_file_out, sep='\\t', index=False, lineterminator='\\n',encoding='utf-16')\n",
        "tweet_df.to_csv(tweet_file_out, sep='\\t', index=False,encoding='utf-16')\n",
        "\n",
        "data_table.DataTable(tweet_df.head(min(sample_nr,20000)), include_index=False, num_rows_per_page=10)"
      ],
      "execution_count": null,
      "outputs": []
    },
    {
      "cell_type": "code",
      "metadata": {
        "cellView": "form",
        "collapsed": true,
        "id": "Gjo75aP7zVv6"
      },
      "source": [
        "#@title Display distribution of data for each type of humour\n",
        "vc=tweet_df['Humour'].value_counts()\n",
        "vc"
      ],
      "execution_count": null,
      "outputs": []
    },
    {
      "cell_type": "code",
      "metadata": {
        "cellView": "form",
        "id": "I-YiH3KZ7hgZ"
      },
      "source": [
        "#@markdown Display resulting data\n",
        "tweet_df = tweet_df.dropna()\n",
        "subdf=tweet_df.query(\"Humour!='not evaluated' & likeCount > 5000\")\n",
        "data_table.DataTable(subdf.head(20000), include_index=False, num_rows_per_page=10)"
      ],
      "execution_count": null,
      "outputs": []
    },
    {
      "cell_type": "code",
      "metadata": {
        "cellView": "form",
        "id": "-nuKpOVydwTd"
      },
      "source": [
        "#@title Choose Sample of Data for Visualization\n",
        "\n",
        "# limit of absolute_max=20000 due to colab DataTable\n",
        "\n",
        "import warnings\n",
        "absolute_max=20000\n",
        "\n",
        "names=['serious','fun','benevolent','wit','nonsense','irony','satire','sarcasm','cynicism']\n",
        "as_many_as_possible = True #@param {type:\"boolean\"}\n",
        "sample = 5000 #@param {type:\"slider\", min:100, max:20000, step:100}\n",
        "op_max= sample\n",
        "\n",
        "if as_many_as_possible:\n",
        "  op_max = 20000\n",
        "\n",
        "likes_sorted=np.sort(tweet_df['likeCount'])\n",
        "num_tweets=len(tweet_df)\n",
        "divisor = min (absolute_max, op_max)\n",
        "\n",
        "last_like=0\n",
        "if absolute_max < num_tweets:\n",
        "  chunk_lst=np.array_split(likes_sorted,int(num_tweets/divisor))\n",
        "  last_like=int(chunk_lst[-1][0])\n",
        "\n",
        "tweet_df = tweet_df.dropna()\n",
        "subdf=tweet_df.loc[(tweet_df['Humour'] !='not evaluated') & (tweet_df['likeCount'] > last_like)]\n",
        "\n",
        "# add line breaks to make tooltips readable\n",
        "with warnings.catch_warnings():\n",
        "    warnings.simplefilter('ignore')\n",
        "    subdf.content = subdf.content.str.wrap(80)\n",
        "    subdf.content = subdf.content.apply(lambda x: x.replace('\\n', '<br>'))\n",
        "\n",
        "fig1 = px.scatter(subdf, x=\"retweetCount\", y=\"username\", size=\"likeCount\",\n",
        "                 color=\"Humour\", hover_name=\"content\", facet_col=\"Humour\", size_max=100, log_x=True, \n",
        "                 category_orders = {'Humour': ['LABEL_0','LABEL_1','LABEL_2','LABEL_3','LABEL_4','LABEL_5','LABEL_6','LABEL_7','LABEL_8']},\n",
        "                 color_discrete_sequence=color_palette, height=3000,opacity=0.6, facet_col_wrap=3)\n",
        "fig1.update_layout(\n",
        "    plot_bgcolor=plot_bgcolor,\n",
        "    title=\"Tweet Distribution per Humour Type amongst leading Twitterers\",\n",
        "    xaxis_title=\"Retweets (log-scale)\",\n",
        "    yaxis_title=\"Twitter Handles\",\n",
        "  )\n",
        "fig1.show()"
      ],
      "execution_count": null,
      "outputs": []
    },
    {
      "cell_type": "code",
      "metadata": {
        "cellView": "form",
        "id": "jyyBAXf12i2u"
      },
      "source": [
        "#@title Calculate averages \n",
        "#@markdown * For each type of Tweet propagation (reply, retweet, like, quote) \n",
        "#@markdown * And each humour type\n",
        "\n",
        "table = pd.pivot_table(tweet_df, values=['replyCount', 'retweetCount', 'likeCount', 'quoteCount'], index=['Humour'],\n",
        "                    aggfunc={'replyCount': np.mean,\n",
        "                             'retweetCount': np.mean,\n",
        "                             'likeCount': np.mean,\n",
        "                             'quoteCount': np.mean\n",
        "                             })\n",
        "table=table.loc[(table.index != \"not evaluated\")]\n",
        "\n",
        "# need to rotate 'replyCount', 'retweetCount', 'likeCount', 'quoteCount' into one column and put the averages in a new column\n",
        "dic ={\"humour\":[], \"propagation type\":[],\"mean value\":[]}\n",
        "for htype in table.iterrows():\n",
        "  for i in range (0,4) : dic[\"humour\"].append(htype[0])\n",
        "  dic[\"propagation type\"].append('likes')\n",
        "  dic[\"mean value\"].append(int(htype[1]['likeCount']))\n",
        "  dic[\"propagation type\"].append('quotes')\n",
        "  dic[\"mean value\"].append(int(htype[1]['quoteCount']))\n",
        "  dic[\"propagation type\"].append('replies')\n",
        "  dic[\"mean value\"].append(int(htype[1]['replyCount']))\n",
        "  dic[\"propagation type\"].append('retweets')\n",
        "  dic[\"mean value\"].append(int(htype[1]['retweetCount']))\n",
        "\n",
        "df_avg=pd.DataFrame(dic)\n",
        "\n",
        "df_avg.head(10)"
      ],
      "execution_count": null,
      "outputs": []
    },
    {
      "cell_type": "code",
      "metadata": {
        "cellView": "form",
        "id": "a9u4vMHxFgqb"
      },
      "source": [
        "#@title Visualize average numbers of Tweet propagations per humour type\n",
        "from plotly.graph_objs import *\n",
        "\n",
        "# labels={'Humour': ['LABEL_0','LABEL_1','LABEL_2','LABEL_3','LABEL_4','LABEL_5','LABEL_6','LABEL_7','LABEL_8'],\n",
        "#                                       'propagation type': ['quotes','replies','retweets','likes']}\n",
        "labels={'Humour': \"\",'propagation type': ''}\n",
        "fig = px.histogram(df_avg, \n",
        "                   x='propagation type', \n",
        "                   y='mean value', \n",
        "                   facet_col=\"humour\",\n",
        "                   histfunc ='avg',\n",
        "                   color_discrete_sequence=color_palette_r,\n",
        "                   color='propagation type',\n",
        "                  #  barmode='group',\n",
        "                   category_orders = {'Humour': ['LABEL_0','LABEL_1','LABEL_2','LABEL_3','LABEL_4','LABEL_5','LABEL_6','LABEL_7','LABEL_8'],\n",
        "                                      'propagation type': ['likes','retweets','replies','quotes']},\n",
        "                   labels=labels\n",
        "                   )\n",
        "fig.update_xaxes(type='category')\n",
        "\n",
        "fig.update_layout(\n",
        "    plot_bgcolor=plot_bgcolor,\n",
        "    title=\"Average Numbers of Tweet Propagations per Humour Type\",\n",
        "    xaxis_title=\"\",\n",
        "    yaxis_title=\"Average Numbers of Tweet Propagations\",\n",
        "    # legend_title=\"Legend Title\"\n",
        "  )\n",
        "fig.for_each_annotation(lambda a: a.update(text=a.text.split(\"=\")[-1]))\n",
        "\n",
        "fig.show()"
      ],
      "execution_count": null,
      "outputs": []
    },
    {
      "cell_type": "code",
      "metadata": {
        "cellView": "form",
        "id": "EWydwjixEcqU"
      },
      "source": [
        "#@markdown ##Visualize Distribution of Tweets per Twitter-Handle\n",
        "#@markdown Select/deselect humour types in the legend to analyse deeper\n",
        "\n",
        "subdf2=tweet_df.query(\"Humour!='not evaluated'\")\n",
        "s = subdf2.groupby(\"username\")[\"followers\"].sum().rank(ascending=True)\n",
        "# s = subdf2.groupby(\"username\").size().reset_index().groupby(['replyCount', 'retweetCount', 'likeCount', 'quoteCount']).sum().rank(ascending=True)\n",
        "\n",
        "\n",
        "fig = px.histogram(subdf2, \n",
        "                   x='username',\n",
        "                   color=\"Humour\",\n",
        "                   color_discrete_sequence=color_palette_r,\n",
        "                   category_orders = {'Humour': ['LABEL_0','LABEL_1','LABEL_2','LABEL_3','LABEL_4','LABEL_5','LABEL_6','LABEL_7','LABEL_8'],\n",
        "                                      'propagation type': ['likes','retweets','replies','quotes'],\n",
        "                                      \"username\":s[s < 100000].sort_values().index.to_list()},\n",
        "                   orientation='v', height=800\n",
        "                      )\n",
        "fig.update_layout(\n",
        "    plot_bgcolor=plot_bgcolor,\n",
        "    title=\"Numbers of Tweets amongst leading Twitterers\",\n",
        "    )\n",
        "fig.show()"
      ],
      "execution_count": null,
      "outputs": []
    },
    {
      "cell_type": "markdown",
      "metadata": {
        "id": "UKqcZVuJZE3n"
      },
      "source": [
        "# Neuer Abschnitt"
      ]
    },
    {
      "cell_type": "markdown",
      "metadata": {
        "id": "cM1m1eRHZFX5"
      },
      "source": [
        "# Utility Code\n",
        "\n",
        "\n",
        "\n"
      ]
    },
    {
      "cell_type": "code",
      "metadata": {
        "id": "sOXYY86WVbWt"
      },
      "source": [
        "# Invoke to show what gpu is in use\n",
        "gpu = !nvidia-smi\n",
        "gpu = '\\n'.join(gpu)\n",
        "print(gpu)"
      ],
      "execution_count": null,
      "outputs": []
    },
    {
      "cell_type": "code",
      "metadata": {
        "id": "5hjtvx_Ydkj7"
      },
      "source": [
        "%env\n",
        "!python '/content/gdrive/MyDrive/ColabNotebooks/Visualization/run_glue2.py' --help\n",
        "train_file.value"
      ],
      "execution_count": null,
      "outputs": []
    },
    {
      "cell_type": "markdown",
      "metadata": {
        "id": "OFGc9Qs3A7AY"
      },
      "source": [
        "## Visualization of results in dashboard\n",
        "Analyze results (as they happen) on the project dashboard https://wandb.ai/jb-diplom/janice-demo\n",
        "\n",
        "### To retrieve models and their metadata from wandb\n",
        "\n",
        "1.   Go to the artifacts area of wandb (e.g. `https://wandb.ai/jb-diplom/janice-full/artifacts`)\n",
        "2.   Select the API Tag, which gives the precise code (below) for downloading the model that you need.\n",
        "3.   Check in the artifacts folder of Colab for the sub-folder (e.g. `model-12ai5jvy:0`) with the model.<br> Right-click it and take a copy of the path\n",
        "4.   Use the path in the huggingface pipeline constructor e.g.<br>\n",
        "`model_path=\"/content/artifacts/model-15ai5jvy:v0\"`\n",
        "`humour_classiffier = pipeline('sentiment-analysis',model_path)`\n"
      ]
    },
    {
      "cell_type": "code",
      "metadata": {
        "id": "hEjNX11QU-ZD"
      },
      "source": [
        "# Display W & B Destop for \n",
        "# own_modelid='electra-L-htype_balanced20e2021-05-16_07.13.44'\n",
        "run_id=\"jb-diplom/\"+ WandB_Project + \"/\" + own_modelid\n",
        "print(run_id)\n",
        "run=wandb.init(project=WandB_Project, entity='jb-diplom', id=wandb.Api().run(run_id).id, resume='allow')\n",
        "run"
      ],
      "execution_count": null,
      "outputs": []
    }
  ]
}